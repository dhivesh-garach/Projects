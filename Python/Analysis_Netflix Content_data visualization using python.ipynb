{
 "cells": [
  {
   "cell_type": "markdown",
   "id": "22148667",
   "metadata": {},
   "source": [
    "#### Netflix Data Analysis:\n",
    "You have been provided a dataset of Netflix which consists of TV shows and movies available on\n",
    "Netflix as of 2019. The dataset is collected from Flixable which is a third-party Netflix search engine.\n",
    "In 2018, they released an interesting report which shows that the number of TV shows on Netflix has\n",
    "nearly tripled since 2010. The streaming service’s number of movies has decreased by more than\n",
    "2,000 titles since 2010, while its number of TV shows has nearly tripled.\n"
   ]
  },
  {
   "cell_type": "code",
   "execution_count": 63,
   "id": "18aef88d",
   "metadata": {},
   "outputs": [],
   "source": [
    "import pandas as pd\n",
    "import matplotlib.pyplot as plt\n",
    "import seaborn as sns"
   ]
  },
  {
   "cell_type": "code",
   "execution_count": 64,
   "id": "6dfb3d52",
   "metadata": {
    "scrolled": true
   },
   "outputs": [
    {
     "data": {
      "text/html": [
       "<div>\n",
       "<style scoped>\n",
       "    .dataframe tbody tr th:only-of-type {\n",
       "        vertical-align: middle;\n",
       "    }\n",
       "\n",
       "    .dataframe tbody tr th {\n",
       "        vertical-align: top;\n",
       "    }\n",
       "\n",
       "    .dataframe thead th {\n",
       "        text-align: right;\n",
       "    }\n",
       "</style>\n",
       "<table border=\"1\" class=\"dataframe\">\n",
       "  <thead>\n",
       "    <tr style=\"text-align: right;\">\n",
       "      <th></th>\n",
       "      <th>show_id</th>\n",
       "      <th>title</th>\n",
       "      <th>director</th>\n",
       "      <th>cast</th>\n",
       "      <th>country</th>\n",
       "      <th>date_added</th>\n",
       "      <th>release_year</th>\n",
       "      <th>rating</th>\n",
       "      <th>duration</th>\n",
       "      <th>listed_in</th>\n",
       "      <th>description</th>\n",
       "      <th>type</th>\n",
       "    </tr>\n",
       "  </thead>\n",
       "  <tbody>\n",
       "    <tr>\n",
       "      <th>0</th>\n",
       "      <td>81193313</td>\n",
       "      <td>Chocolate</td>\n",
       "      <td>NaN</td>\n",
       "      <td>Ha Ji-won, Yoon Kye-sang, Jang Seung-jo, Kang ...</td>\n",
       "      <td>South Korea</td>\n",
       "      <td>November 30, 2019</td>\n",
       "      <td>2019</td>\n",
       "      <td>TV-14</td>\n",
       "      <td>1 Season</td>\n",
       "      <td>International TV Shows, Korean TV Shows, Roman...</td>\n",
       "      <td>Brought together by meaningful meals in the pa...</td>\n",
       "      <td>TV Show</td>\n",
       "    </tr>\n",
       "    <tr>\n",
       "      <th>1</th>\n",
       "      <td>81197050</td>\n",
       "      <td>Guatemala: Heart of the Mayan World</td>\n",
       "      <td>Luis Ara, Ignacio Jaunsolo</td>\n",
       "      <td>Christian Morales</td>\n",
       "      <td>NaN</td>\n",
       "      <td>November 30, 2019</td>\n",
       "      <td>2019</td>\n",
       "      <td>TV-G</td>\n",
       "      <td>67 min</td>\n",
       "      <td>Documentaries, International Movies</td>\n",
       "      <td>From Sierra de las Minas to Esquipulas, explor...</td>\n",
       "      <td>Movie</td>\n",
       "    </tr>\n",
       "    <tr>\n",
       "      <th>2</th>\n",
       "      <td>81213894</td>\n",
       "      <td>The Zoya Factor</td>\n",
       "      <td>Abhishek Sharma</td>\n",
       "      <td>Sonam Kapoor, Dulquer Salmaan, Sanjay Kapoor, ...</td>\n",
       "      <td>India</td>\n",
       "      <td>November 30, 2019</td>\n",
       "      <td>2019</td>\n",
       "      <td>TV-14</td>\n",
       "      <td>135 min</td>\n",
       "      <td>Comedies, Dramas, International Movies</td>\n",
       "      <td>A goofy copywriter unwittingly convinces the I...</td>\n",
       "      <td>Movie</td>\n",
       "    </tr>\n",
       "    <tr>\n",
       "      <th>3</th>\n",
       "      <td>81082007</td>\n",
       "      <td>Atlantics</td>\n",
       "      <td>Mati Diop</td>\n",
       "      <td>Mama Sane, Amadou Mbow, Ibrahima Traore, Nicol...</td>\n",
       "      <td>France, Senegal, Belgium</td>\n",
       "      <td>November 29, 2019</td>\n",
       "      <td>2019</td>\n",
       "      <td>TV-14</td>\n",
       "      <td>106 min</td>\n",
       "      <td>Dramas, Independent Movies, International Movies</td>\n",
       "      <td>Arranged to marry a rich man, young Ada is cru...</td>\n",
       "      <td>Movie</td>\n",
       "    </tr>\n",
       "    <tr>\n",
       "      <th>4</th>\n",
       "      <td>80213643</td>\n",
       "      <td>Chip and Potato</td>\n",
       "      <td>NaN</td>\n",
       "      <td>Abigail Oliver, Andrea Libman, Briana Buckmast...</td>\n",
       "      <td>Canada, United Kingdom</td>\n",
       "      <td>NaN</td>\n",
       "      <td>2019</td>\n",
       "      <td>TV-Y</td>\n",
       "      <td>2 Seasons</td>\n",
       "      <td>Kids' TV</td>\n",
       "      <td>Lovable pug Chip starts kindergarten, makes ne...</td>\n",
       "      <td>TV Show</td>\n",
       "    </tr>\n",
       "  </tbody>\n",
       "</table>\n",
       "</div>"
      ],
      "text/plain": [
       "    show_id                                title                    director  \\\n",
       "0  81193313                            Chocolate                         NaN   \n",
       "1  81197050  Guatemala: Heart of the Mayan World  Luis Ara, Ignacio Jaunsolo   \n",
       "2  81213894                      The Zoya Factor             Abhishek Sharma   \n",
       "3  81082007                            Atlantics                   Mati Diop   \n",
       "4  80213643                      Chip and Potato                         NaN   \n",
       "\n",
       "                                                cast  \\\n",
       "0  Ha Ji-won, Yoon Kye-sang, Jang Seung-jo, Kang ...   \n",
       "1                                  Christian Morales   \n",
       "2  Sonam Kapoor, Dulquer Salmaan, Sanjay Kapoor, ...   \n",
       "3  Mama Sane, Amadou Mbow, Ibrahima Traore, Nicol...   \n",
       "4  Abigail Oliver, Andrea Libman, Briana Buckmast...   \n",
       "\n",
       "                    country         date_added  release_year rating  \\\n",
       "0               South Korea  November 30, 2019          2019  TV-14   \n",
       "1                       NaN  November 30, 2019          2019   TV-G   \n",
       "2                     India  November 30, 2019          2019  TV-14   \n",
       "3  France, Senegal, Belgium  November 29, 2019          2019  TV-14   \n",
       "4    Canada, United Kingdom                NaN          2019   TV-Y   \n",
       "\n",
       "    duration                                          listed_in  \\\n",
       "0   1 Season  International TV Shows, Korean TV Shows, Roman...   \n",
       "1     67 min                Documentaries, International Movies   \n",
       "2    135 min             Comedies, Dramas, International Movies   \n",
       "3    106 min   Dramas, Independent Movies, International Movies   \n",
       "4  2 Seasons                                           Kids' TV   \n",
       "\n",
       "                                         description     type  \n",
       "0  Brought together by meaningful meals in the pa...  TV Show  \n",
       "1  From Sierra de las Minas to Esquipulas, explor...    Movie  \n",
       "2  A goofy copywriter unwittingly convinces the I...    Movie  \n",
       "3  Arranged to marry a rich man, young Ada is cru...    Movie  \n",
       "4  Lovable pug Chip starts kindergarten, makes ne...  TV Show  "
      ]
     },
     "execution_count": 64,
     "metadata": {},
     "output_type": "execute_result"
    }
   ],
   "source": [
    "df = pd.read_csv('Dataset/netflix_titles_nov_2019.csv')\n",
    "df.head()"
   ]
  },
  {
   "cell_type": "code",
   "execution_count": 65,
   "id": "29e24fd3",
   "metadata": {},
   "outputs": [
    {
     "data": {
      "text/plain": [
       "(5837, 12)"
      ]
     },
     "execution_count": 65,
     "metadata": {},
     "output_type": "execute_result"
    }
   ],
   "source": [
    "df.shape"
   ]
  },
  {
   "cell_type": "code",
   "execution_count": 66,
   "id": "1f9186bc",
   "metadata": {},
   "outputs": [
    {
     "name": "stdout",
     "output_type": "stream",
     "text": [
      "<class 'pandas.core.frame.DataFrame'>\n",
      "RangeIndex: 5837 entries, 0 to 5836\n",
      "Data columns (total 12 columns):\n",
      " #   Column        Non-Null Count  Dtype \n",
      "---  ------        --------------  ----- \n",
      " 0   show_id       5837 non-null   int64 \n",
      " 1   title         5837 non-null   object\n",
      " 2   director      3936 non-null   object\n",
      " 3   cast          5281 non-null   object\n",
      " 4   country       5410 non-null   object\n",
      " 5   date_added    5195 non-null   object\n",
      " 6   release_year  5837 non-null   int64 \n",
      " 7   rating        5827 non-null   object\n",
      " 8   duration      5837 non-null   object\n",
      " 9   listed_in     5837 non-null   object\n",
      " 10  description   5837 non-null   object\n",
      " 11  type          5837 non-null   object\n",
      "dtypes: int64(2), object(10)\n",
      "memory usage: 547.3+ KB\n"
     ]
    }
   ],
   "source": [
    "df.info()"
   ]
  },
  {
   "cell_type": "code",
   "execution_count": 67,
   "id": "31e1a118",
   "metadata": {},
   "outputs": [
    {
     "data": {
      "text/plain": [
       "show_id            0\n",
       "title              0\n",
       "director        1901\n",
       "cast             556\n",
       "country          427\n",
       "date_added       642\n",
       "release_year       0\n",
       "rating            10\n",
       "duration           0\n",
       "listed_in          0\n",
       "description        0\n",
       "type               0\n",
       "dtype: int64"
      ]
     },
     "execution_count": 67,
     "metadata": {},
     "output_type": "execute_result"
    }
   ],
   "source": [
    "#Checking for missing values\n",
    "df.isnull().sum()"
   ]
  },
  {
   "cell_type": "code",
   "execution_count": 68,
   "id": "8d386548",
   "metadata": {
    "scrolled": true
   },
   "outputs": [
    {
     "data": {
      "text/plain": [
       "array(['South Korea', nan, 'India', 'France, Senegal, Belgium',\n",
       "       'Canada, United Kingdom', 'Nigeria', 'France', 'South Africa',\n",
       "       'United States, Spain, Colombia, Mexico', 'United States', 'Japan',\n",
       "       'Brazil', 'Germany, Canada, United States', 'Canada, Norway',\n",
       "       'Poland', 'Mexico', 'China', 'United States, United Arab Emirates',\n",
       "       'United States, Japan', 'Spain', 'Singapore, United States',\n",
       "       'United States, Canada',\n",
       "       'United Kingdom, Germany, Canada, United States',\n",
       "       'Australia, France', 'Germany', 'Germany, United Kingdom',\n",
       "       'Italy, United States',\n",
       "       'United States, New Zealand, United Kingdom',\n",
       "       'United Kingdom, Germany, United States', 'United States, Germany',\n",
       "       'Argentina', 'Taiwan', 'United Kingdom, United States',\n",
       "       'Finland, Germany, Belgium', 'United Kingdom, France',\n",
       "       'United States, Spain, Chile, Peru', 'Colombia',\n",
       "       'United States, Ireland', 'India, United States', 'Thailand',\n",
       "       'Turkey', 'Argentina, United States, Mexico', 'United Kingdom',\n",
       "       'United States, United Kingdom, Canada', 'China, Hong Kong',\n",
       "       'Canada, United States', 'Canada',\n",
       "       'South Africa, United States, New Zealand, Canada',\n",
       "       'United States, Australia, Mexico',\n",
       "       'United States, South Korea, Japan', 'Australia',\n",
       "       'United States, Italy, United Kingdom, Liechtenstein',\n",
       "       'Hong Kong, United States', 'Italy',\n",
       "       'United States, United Kingdom, Italy',\n",
       "       'United States, France, Canada, Spain', 'Mexico, United States',\n",
       "       'United States, Mexico', 'United States, United Kingdom',\n",
       "       'Hong Kong', 'Canada, Australia', 'United States, Australia',\n",
       "       'Italy, Belgium, France', 'Argentina, Spain',\n",
       "       'United States, United Kingdom, France', 'Israel, United States',\n",
       "       'United States, United Kingdom, Germany', 'Switzerland', 'Russia',\n",
       "       'Singapore, Malaysia', 'Canada, Luxembourg', 'Hong Kong, China',\n",
       "       'United States, Spain, Germany', 'Egypt, Austria, United States',\n",
       "       'Belgium, Luxembourg, France', 'Netherlands', 'Indonesia',\n",
       "       'United States, China', 'United Kingdom, Poland, United States',\n",
       "       'United States, Czech Republic', 'Spain, France',\n",
       "       'Australia, United States', 'United Kingdom, Hong Kong',\n",
       "       'United Kingdom, Canada', 'Denmark, France, Poland',\n",
       "       'United States, Germany, Canada', 'Poland,',\n",
       "       'United States, United Kingdom, Australia', 'Poland, West Germany',\n",
       "       'Germany, United States', 'United Kingdom, France, United States',\n",
       "       'Peru', 'United States, Malta, United Kingdom',\n",
       "       'Denmark, France, Italy, Belgium, Netherlands', 'Vietnam',\n",
       "       'France, Canada', 'United Kingdom, France, Germany, Spain',\n",
       "       'France, Switzerland, Spain, United States, United Arab Emirates',\n",
       "       'Canada, United States, United Kingdom',\n",
       "       'Japan, Canada, South Korea',\n",
       "       'United States, India, South Korea, China', 'Pakistan',\n",
       "       'Brazil, United States', 'United Kingdom, Canada, United States',\n",
       "       'United States, France', 'Germany, United States, Canada',\n",
       "       'Denmark, Brazil, France, Portugal, Sweden',\n",
       "       'France, United States', 'United Arab Emirates', 'Egypt',\n",
       "       'China, United Kingdom', 'Chile', 'China, Taiwan',\n",
       "       'Israel, Germany, Poland, Luxembourg, Belgium, France, United States',\n",
       "       'India, Turkey', 'Philippines', 'United States, Italy',\n",
       "       'South Korea, United States', 'Lebanon',\n",
       "       'Malaysia, Singapore, Hong Kong', 'France, South Korea, Japan',\n",
       "       'Bulgaria, United States', 'United Kingdom, South Korea',\n",
       "       'United States, Germany, Australia', 'Singapore, Japan, France',\n",
       "       'United Kingdom, Poland', 'Philippines, Singapore',\n",
       "       'France, Belgium', 'United Kingdom, Germany', 'Australia, Canada',\n",
       "       'Sweden', 'Taiwan, China, France, United States', 'Germany, Italy',\n",
       "       'Italy, France, Switzerland', 'China, Hong Kong, United States',\n",
       "       'Germany, United Kingdom, United States',\n",
       "       'United States, Czech Republic, United Kingdom',\n",
       "       'United States, Spain', 'Dominican Republic',\n",
       "       'Canada, United Kingdom, United States', 'Israel',\n",
       "       'Thailand, China, United States', 'Argentina, United States',\n",
       "       'New Zealand', 'Germany, United States, Sweden',\n",
       "       'Sweden, United States', 'Belgium', 'Lebanon, Jordan', 'Malaysia',\n",
       "       'Uruguay, Spain, Mexico', 'France, Luxembourg, Canada',\n",
       "       'Spain, France, Italy', 'France, China, Japan, United States',\n",
       "       'United States, France, United Kingdom, Japan', 'Romania',\n",
       "       'United States, South Africa', 'Denmark',\n",
       "       'United Kingdom, Thailand', 'Austria', 'Denmark, Spain',\n",
       "       'Denmark, United States', 'United Kingdom, Pakistan',\n",
       "       'Chile, Argentina', 'India, Germany, France',\n",
       "       'United States, Canada, United Kingdom',\n",
       "       'United States, Mexico, Spain, Malta',\n",
       "       'United Kingdom, Belgium, Sweden', 'United States, India',\n",
       "       'Canada, Brazil', 'Belgium, Netherlands',\n",
       "       'South Korea, Czech Republic',\n",
       "       'United Kingdom, Norway, Denmark, Germany, Sweden',\n",
       "       'United Kingdom, France, Belgium', 'Japan, United States',\n",
       "       'Italy, France', 'India, France', 'France, Netherlands, Singapore',\n",
       "       'Indonesia, Singapore', 'Cyprus, Austria, Thailand',\n",
       "       'United States, Morocco', 'Hong Kong, China, Singapore',\n",
       "       'Ireland, United States, France', 'Pakistan, United Arab Emirates',\n",
       "       'United States, Germany, United Kingdom', 'Ghana, United States',\n",
       "       'Mexico, Finland', 'Canada, United States, India, United Kingdom',\n",
       "       'Iran, France', 'Finland',\n",
       "       'United Arab Emirates, United Kingdom, India',\n",
       "       'United States, Taiwan',\n",
       "       'United Kingdom, United States, Czech Republic',\n",
       "       'United Kingdom, Canada, France, United States', 'India, Japan',\n",
       "       'Austria, United States', 'United States, Cambodia',\n",
       "       'Austria, Iraq, United States',\n",
       "       'Taiwan, Hong Kong, United States, China',\n",
       "       'United Kingdom, Malawi', 'Paraguay, Argentina',\n",
       "       'United States, Spain, Italy', 'Ireland',\n",
       "       'United Kingdom, United States, Russia',\n",
       "       'United Kingdom, France, Germany', 'Finland, France',\n",
       "       'United Kingdom, United States, France, Germany',\n",
       "       'Denmark, Singapore, Canada, United States', 'Denmark, China',\n",
       "       'France, Germany, Czech Republic, Belgium',\n",
       "       'United States, India, United Arab Emirates',\n",
       "       'United States, Sweden', 'India, Pakistan', 'Spain, Belgium',\n",
       "       'Italy, United Kingdom, France',\n",
       "       'Spain, United Kingdom, United States',\n",
       "       'Colombia, Mexico, United States', 'United Kingdom, Ireland',\n",
       "       'United States, Colombia', 'Spain, United Kingdom',\n",
       "       'Italy, South Africa, West Germany, Australia, United States',\n",
       "       'Bangladesh', 'India, Nepal', 'Iceland, Sweden, Belgium',\n",
       "       'Switzerland, Vatican City, Italy, Germany, France',\n",
       "       'France, United States, Mexico', 'South Africa, United States',\n",
       "       'Croatia', 'United Kingdom, Brazil, Germany',\n",
       "       'Uruguay, Argentina, Spain', 'Sweden, Netherlands',\n",
       "       'France, Poland',\n",
       "       'Australia, United Kingdom, United Arab Emirates, Canada',\n",
       "       'United States, Mexico, Colombia',\n",
       "       'Ireland, United Kingdom, United States', 'Poland, United States',\n",
       "       'Singapore', 'Thailand, Canada, United States',\n",
       "       'Canada, Germany, France, United States',\n",
       "       'United Kingdom, Japan, United States', 'Israel, Germany',\n",
       "       'Ireland, United Kingdom, Greece, France, Netherlands',\n",
       "       'Norway, Denmark, Netherlands, Sweden',\n",
       "       'Hong Kong, China, United States', 'Ireland, Canada',\n",
       "       'United States, France, Canada',\n",
       "       'Italy, Switzerland, France, Germany', 'Mexico, Netherlands',\n",
       "       'China, Morocco, Hong Kong',\n",
       "       'United Arab Emirates, United States, United Kingdom',\n",
       "       'Australia, Iraq', 'Germany, France, Russia', 'Brazil, France',\n",
       "       'Argentina, Chile', 'France, Iran, United States',\n",
       "       'United Kingdom, India', 'New Zealand, United Kingdom, Australia',\n",
       "       'United Kingdom, China, United States',\n",
       "       'France, Belgium, China, United States',\n",
       "       'United States, Indonesia', 'Russia, Poland, Serbia',\n",
       "       'Serbia, United States', 'Spain, Portugal',\n",
       "       'United Kingdom, United States, Morocco', 'Mexico, Argentina',\n",
       "       'United Kingdom, Canada, United States, Cayman Islands',\n",
       "       'United States, United Kingdom, Morocco',\n",
       "       'Indonesia, United States',\n",
       "       'United States, Ireland, United Kingdom',\n",
       "       'United States, Israel, United Kingdom, Canada', 'Egypt, France',\n",
       "       'Norway, Iceland, United States', 'Czech Republic, United States',\n",
       "       'United Kingdom, Canada, Italy',\n",
       "       'United Kingdom, India, United States', 'United States, Bulgaria',\n",
       "       'United Kingdom, West Germany', 'India, Australia',\n",
       "       'Turkey, United States', 'Norway',\n",
       "       'United States, United Kingdom, Canada, Japan',\n",
       "       'United States, France, South Korea, Indonesia', 'United States,',\n",
       "       'China, Canada, United States',\n",
       "       'Belgium, United Kingdom, United States',\n",
       "       'India, Germany, Austria',\n",
       "       'United States, Brazil, South Korea, Mexico, Japan, Germany',\n",
       "       'Denmark, Germany, Belgium, United Kingdom, France, Sweden',\n",
       "       'Finland, Germany', 'Spain, Mexico', 'India, Iran', 'China, Japan',\n",
       "       'Uruguay', 'Argentina, France', 'United States, China, Hong Kong',\n",
       "       'Canada, Mexico, Germany, South Africa',\n",
       "       'United Kingdom, New Zealand',\n",
       "       'United States, Brazil, India, Uganda, China',\n",
       "       'United Arab Emirates, United States',\n",
       "       'China, United States, United Kingdom',\n",
       "       'Ireland, Canada, United Kingdom, United States',\n",
       "       'Australia, United Kingdom, Canada', 'Canada, Spain, France',\n",
       "       'United Kingdom, Denmark, Canada, Croatia',\n",
       "       'Switzerland, United States', 'Argentina, France, Germany',\n",
       "       'Switzerland, United Kingdom, United States',\n",
       "       'Germany, France, Luxembourg, United Kingdom, United States',\n",
       "       'France, Luxembourg, United States', 'Germany, Australia',\n",
       "       'China, United States, Australia', 'Hong Kong, Taiwan',\n",
       "       'Colombia, Mexico', 'Russia, Spain',\n",
       "       'United States, Canada, Ireland', 'Chile, Peru',\n",
       "       'United Kingdom, United States, Australia',\n",
       "       'Denmark, Sweden, Israel, United States', 'Ukraine',\n",
       "       'Australia, United Arab Emirates', 'Argentina, Italy',\n",
       "       'Denmark, France, United States, Sweden',\n",
       "       'Canada, Japan, United States',\n",
       "       'Italy, Switzerland, Albania, Poland',\n",
       "       'United States, Japan, Canada', 'Canada, United States, France',\n",
       "       'Cambodia', 'Italy, United States, Argentina',\n",
       "       'South Korea, France', 'Japan, Canada',\n",
       "       'Saudi Arabia, Syria, Egypt, Lebanon, Kuwait',\n",
       "       'Australia, New Zealand',\n",
       "       'United States, Australia, South Africa, United Kingdom',\n",
       "       'Portugal, France, Poland, United States',\n",
       "       'United Kingdom, China, Canada, Indonesia, Singapore, United States',\n",
       "       'South Africa, China, United States', 'Spain, Colombia',\n",
       "       'Mexico, Spain',\n",
       "       'United Kingdom, South Africa, Australia, United States',\n",
       "       'Bulgaria', 'Turkey, India', 'Italy, Turkey',\n",
       "       'Argentina, Brazil, France, Poland, Germany, Denmark',\n",
       "       'United States, United Kingdom, Spain, South Korea',\n",
       "       'United Kingdom, Italy, France, United States',\n",
       "       'United Kingdom, Spain, United States, Germany', 'Iceland',\n",
       "       'Philippines, Qatar', 'Netherlands, Belgium, Germany, Jordan',\n",
       "       'Venezuela, Colombia', 'Hungary', 'Norway, Sweden', 'Guatemala',\n",
       "       'United States, Chile', 'Norway, Germany, Sweden',\n",
       "       'Somalia, Kenya, Sudan, South Africa, United States',\n",
       "       'Serbia, South Korea, Slovenia',\n",
       "       'France, Netherlands, South Africa, Finland',\n",
       "       'Netherlands, Denmark, France, Germany',\n",
       "       'Ireland, Canada, Luxembourg, United States',\n",
       "       'United States, Israel, Italy, South Africa',\n",
       "       'Czech Republic, United Kingdom, France',\n",
       "       'United Kingdom, Namibia, South Africa, Zimbabwe, United States',\n",
       "       'Georgia', 'New Zealand, United Kingdom',\n",
       "       'United States, Canada, Belgium, United Kingdom',\n",
       "       'South Africa, Germany, Netherlands, France',\n",
       "       'United States, New Zealand', 'Soviet Union, India',\n",
       "       'United Kingdom, United States, Dominican Republic',\n",
       "       'Brazil, India, China, United States',\n",
       "       'Ireland, Canada, United States, United Kingdom',\n",
       "       'United States, India, Bangladesh', 'Germany, Belgium',\n",
       "       'Canada, France, Italy, Morocco, United States',\n",
       "       'Denmark, Germany, Belgium, United Kingdom, France',\n",
       "       'Italy, Canada, France', 'Thailand, United States',\n",
       "       'Canada, Germany, South Africa', 'United States, Nicaragua',\n",
       "       'South Korea, China, United States', 'Belgium, France',\n",
       "       'United Kingdom, India, Sweden', 'India, Soviet Union',\n",
       "       'Canada, France', 'India, Mexico', 'Georgia, Germany, France',\n",
       "       'India, Switzerland', 'United States, South Korea, China',\n",
       "       'United Arab Emirates, Romania',\n",
       "       'Spain, Belgium, Switzerland, United States, China, United Kingdom',\n",
       "       'Pakistan, United States', 'Canada, India', 'India, Canada',\n",
       "       'Venezuela', 'Australia, India', 'India, Malaysia',\n",
       "       'Canada, India, Thailand, United States, United Arab Emirates',\n",
       "       'Germany, Jordan, Netherlands', 'Turkey, France, Germany, Poland',\n",
       "       'Saudi Arabia', 'China, India, Nepal', 'France, Canada, Belgium',\n",
       "       'Australia, New Zealand, United States', 'United States, Brazil',\n",
       "       'Canada, Ireland, United States',\n",
       "       'United States, France, Canada, Lebanon, Qatar',\n",
       "       'Switzerland, France', 'France, United Kingdom, United States',\n",
       "       'France, United Kingdom', 'Norway, Germany',\n",
       "       'United Kingdom, Canada, Japan', 'Ireland, United Kingdom',\n",
       "       'France, Morocco', 'Spain, Argentina', 'Cambodia, United States',\n",
       "       'United States, Denmark', 'Bulgaria, United States, Spain, Canada',\n",
       "       'United States, United Kingdom, Denmark, Sweden',\n",
       "       'Netherlands, Belgium, United Kingdom, United States',\n",
       "       'United States, Uruguay', 'Czech Republic, France',\n",
       "       'United States, Senegal', 'United States, Colombia, Mexico',\n",
       "       'United States, Hong Kong',\n",
       "       'United Kingdom, Italy, Israel, Peru, United States',\n",
       "       'Argentina, Uruguay, Spain, France',\n",
       "       'Germany, United States, Italy', 'Canada, Spain', 'Italy, Germany',\n",
       "       'Australia, Armenia, Japan, Jordan, Mexico, Mongolia, New Zealand, Philippines, South Africa, Sweden, United States, Uruguay',\n",
       "       'United States, Argentina', 'France, China, Canada',\n",
       "       'United Kingdom, France, Belgium, United States', 'Spain, Germany',\n",
       "       'Germany, United States, Hong Kong, Singapore', 'Chile, France',\n",
       "       'Slovenia, Croatia, Germany, Czech Republic, Qatar',\n",
       "       'Russia, United States',\n",
       "       'Chile, Argentina, France, Spain, United States',\n",
       "       'Netherlands, United States', 'United States, Iceland',\n",
       "       'United States, Canada, Japan, Panama',\n",
       "       'Israel, Sweden, Germany, Netherlands',\n",
       "       'United Kingdom, France, Canada, Belgium, United States',\n",
       "       'Finland, Sweden, Norway, Latvia, Germany',\n",
       "       'France, United Kingdom, India', 'United Kingdom, Israel, Russia',\n",
       "       'United Kingdom, South Africa', 'Czech Republic, Slovakia',\n",
       "       'Spain, France, Uruguay', 'Colombia, United States',\n",
       "       'Singapore, France',\n",
       "       'United States, Australia, Samoa, United Kingdom',\n",
       "       'Spain, Switzerland', 'United States, Australia, China',\n",
       "       'South Africa, United States, Germany',\n",
       "       'United Kingdom, Singapore', 'Netherlands, Belgium',\n",
       "       'United Kingdom, Russia',\n",
       "       'Brazil, Netherlands, United States, Colombia, Austria, Germany',\n",
       "       'United States, Botswana', 'India, Germany', 'Portugal, Spain',\n",
       "       'Denmark, United Kingdom, South Africa, Sweden, Belgium',\n",
       "       'Germany, Sri Lanka', 'Spain, Italy, Argentina',\n",
       "       'Chile, Spain, Argentina, Germany', 'France, Germany, Switzerland',\n",
       "       'West Germany', 'Italy, India', 'Belgium, India, Australia',\n",
       "       'China, South Korea, United States',\n",
       "       'United Kingdom, Spain, Belgium',\n",
       "       'Ireland, United Kingdom, Italy, United States',\n",
       "       'Austria, Czech Republic', 'United States, Greece, Brazil',\n",
       "       'Lebanon, Qatar', 'United Kingdom, Jordan, Qatar, Iran',\n",
       "       'Norway, Denmark, Sweden', 'Netherlands, Germany, Italy, Canada',\n",
       "       'Belgium, Ireland, Netherlands, Germany, Afghanistan',\n",
       "       'United States, Venezuela', 'Turkey, Azerbaijan',\n",
       "       'Israel, Germany, France', 'Brazil, Canada',\n",
       "       'Canada, Japan, Netherlands', 'Spain, Cuba',\n",
       "       'United States, Hungary', 'France, Germany',\n",
       "       'United States, Kazakhstan', 'Peru, United States, United Kingdom',\n",
       "       'France, Qatar',\n",
       "       'United Kingdom, Australia, Canada, United States',\n",
       "       'United Kingdom, Germany, Canada',\n",
       "       'Netherlands, Denmark, South Africa', 'Ireland, South Africa',\n",
       "       'United States, Russia', 'Chile, United States, France',\n",
       "       'United States, Greece, United Kingdom',\n",
       "       'Pakistan, Norway, United States', 'France, Belgium, Spain',\n",
       "       'Argentina, Chile, Peru', 'Denmark, United Kingdom',\n",
       "       'India, United Kingdom', 'Croatia, Slovenia, Serbia, Montenegro',\n",
       "       'Mexico, France', 'Denmark, Zimbabwe',\n",
       "       'China, Germany, India, United States',\n",
       "       'United Arab Emirates, Jordan', 'China, United States',\n",
       "       'Denmark, Indonesia, Finland, Norway, United Kingdom, Israel, France, United States, Germany, Netherlands',\n",
       "       'United Kingdom, United States, Spain, Germany, Greece, Canada',\n",
       "       'United States, France, Japan',\n",
       "       'Canada, United Kingdom, Netherlands',\n",
       "       'United States, New Zealand, Japan',\n",
       "       'United States, Netherlands, Japan, France',\n",
       "       'France, United States, Canada', 'Australia, France, Ireland',\n",
       "       'United Kingdom, Ukraine, United States',\n",
       "       'Norway, United Kingdom, France, Ireland',\n",
       "       'United Kingdom, United States, Greece, Italy, Germany',\n",
       "       'Australia, United Kingdom, United States, New Zealand, Italy, France',\n",
       "       'Norway, United States', 'United Kingdom,',\n",
       "       'United States, Bermuda, Ecuador',\n",
       "       'United States, Hungary, Ireland, Canada',\n",
       "       'United Kingdom, Egypt, United States', 'Spain, Mexico, France'],\n",
       "      dtype=object)"
      ]
     },
     "execution_count": 68,
     "metadata": {},
     "output_type": "execute_result"
    }
   ],
   "source": [
    "df.country.unique()"
   ]
  },
  {
   "cell_type": "code",
   "execution_count": 69,
   "id": "4d8fc1ce",
   "metadata": {
    "scrolled": true
   },
   "outputs": [
    {
     "data": {
      "text/plain": [
       "array(['TV-14', 'TV-G', 'TV-Y', 'TV-MA', 'TV-PG', 'R', 'TV-Y7', 'PG', 'G',\n",
       "       'PG-13', 'TV-Y7-FV', 'NR', 'UR', 'NC-17', nan], dtype=object)"
      ]
     },
     "execution_count": 69,
     "metadata": {},
     "output_type": "execute_result"
    }
   ],
   "source": [
    "#Finding the unique values in type column for analysis\n",
    "df.rating.unique()"
   ]
  },
  {
   "cell_type": "markdown",
   "id": "80d4f0bf",
   "metadata": {},
   "source": [
    "### Task 1:\n",
    "Plot a graph showing number of contents on Netflix based on Rating."
   ]
  },
  {
   "cell_type": "code",
   "execution_count": 70,
   "id": "35a02e7e",
   "metadata": {},
   "outputs": [
    {
     "data": {
      "image/png": "[encoded data removed]",
      "text/plain": [
       "<Figure size 1000x500 with 1 Axes>"
      ]
     },
     "metadata": {},
     "output_type": "display_data"
    }
   ],
   "source": [
    "#Creating a subplot axes to plot the visual\n",
    "fig, ax = plt.subplots(figsize=(10,5))\n",
    "\n",
    "a = sns.countplot(data=df,x= 'rating', ax=ax, order= df[\"rating\"].value_counts().index)\n",
    "\n",
    "# For putting values as data labels on the bars\n",
    "for label in a.containers:\n",
    "    a.bar_label(label)\n",
    "\n",
    "plt.title('Number of content based on Rating')\n",
    "plt.xlabel('Rating')\n",
    "plt.show()"
   ]
  },
  {
   "cell_type": "code",
   "execution_count": null,
   "id": "12125786",
   "metadata": {},
   "outputs": [],
   "source": []
  },
  {
   "cell_type": "markdown",
   "id": "137da499",
   "metadata": {},
   "source": [
    "### Task 2: \n",
    "Plot a graph showing the number of TV Shows and Movies across different type of Rating."
   ]
  },
  {
   "cell_type": "code",
   "execution_count": 71,
   "id": "d2d6c93c",
   "metadata": {},
   "outputs": [
    {
     "data": {
      "image/png": "[encoded data removed]",
      "text/plain": [
       "<Figure size 1000x500 with 1 Axes>"
      ]
     },
     "metadata": {},
     "output_type": "display_data"
    }
   ],
   "source": [
    "fig, ax = plt.subplots(figsize=(10,5))\n",
    "\n",
    "c = sns.countplot(data=df,x= 'rating', hue = 'type', ax=ax)\n",
    "\n",
    "for label in c.containers:\n",
    "    c.bar_label(label)\n",
    "    \n",
    "plt.title('Number of TV Shows and Movies across different type of Rating')\n",
    "plt.xlabel('Rating')\n",
    "plt.show()"
   ]
  },
  {
   "cell_type": "code",
   "execution_count": null,
   "id": "3d8d9ca3",
   "metadata": {},
   "outputs": [],
   "source": []
  },
  {
   "cell_type": "markdown",
   "id": "d508244d",
   "metadata": {},
   "source": [
    "#### Task 3:  \n",
    "Compare India, US, Japan, Spain, UK & Canada to check which country produces highest TV Show and Movies."
   ]
  },
  {
   "cell_type": "code",
   "execution_count": 72,
   "id": "36d78473",
   "metadata": {},
   "outputs": [
    {
     "data": {
      "text/plain": [
       "[699.0, 1756.0, 65.0, 130.0, 341.0, 195.0]"
      ]
     },
     "execution_count": 72,
     "metadata": {},
     "output_type": "execute_result"
    }
   ],
   "source": [
    "#Applying groupby on \"type\" column to get bifurcated data on type categories.\n",
    "df_type = df.groupby(df[\"type\"])\n",
    "\n",
    "#Saving desired Countries which needs to be compared in a list, so we can create a new dataframe for analysis.\n",
    "selected_country = [\"India\", \"United States\", \"Japan\", \"Spain\", \"United Kingdom\", \"Canada\"]\n",
    "\n",
    "#Finding the number of listed movies produced in each country and saving in a list.\n",
    "movie_count = []\n",
    "for i in selected_country:\n",
    "    m_num = df_type.get_group(\"Movie\").country.str.count(i).sum()\n",
    "    movie_count.append(m_num)\n",
    "\n",
    "movie_count"
   ]
  },
  {
   "cell_type": "code",
   "execution_count": 73,
   "id": "da0221d1",
   "metadata": {},
   "outputs": [
    {
     "data": {
      "text/plain": [
       "[54.0, 665.0, 151.0, 43.0, 218.0, 105.0]"
      ]
     },
     "execution_count": 73,
     "metadata": {},
     "output_type": "execute_result"
    }
   ],
   "source": [
    "#Finding the number of listed \"tv show\" produced in each country and saving in a list.\n",
    "tv_count = []\n",
    "for j in selected_country:\n",
    "    t_num = df_type.get_group(\"TV Show\").country.str.count(j).sum()\n",
    "    tv_count.append(t_num)\n",
    "\n",
    "tv_count"
   ]
  },
  {
   "cell_type": "code",
   "execution_count": 74,
   "id": "81649e80",
   "metadata": {},
   "outputs": [
    {
     "data": {
      "text/html": [
       "<div>\n",
       "<style scoped>\n",
       "    .dataframe tbody tr th:only-of-type {\n",
       "        vertical-align: middle;\n",
       "    }\n",
       "\n",
       "    .dataframe tbody tr th {\n",
       "        vertical-align: top;\n",
       "    }\n",
       "\n",
       "    .dataframe thead th {\n",
       "        text-align: right;\n",
       "    }\n",
       "</style>\n",
       "<table border=\"1\" class=\"dataframe\">\n",
       "  <thead>\n",
       "    <tr style=\"text-align: right;\">\n",
       "      <th></th>\n",
       "      <th>Country</th>\n",
       "      <th>No. of movies</th>\n",
       "      <th>No. of TV Show</th>\n",
       "    </tr>\n",
       "  </thead>\n",
       "  <tbody>\n",
       "    <tr>\n",
       "      <th>0</th>\n",
       "      <td>India</td>\n",
       "      <td>699.0</td>\n",
       "      <td>54.0</td>\n",
       "    </tr>\n",
       "    <tr>\n",
       "      <th>1</th>\n",
       "      <td>United States</td>\n",
       "      <td>1756.0</td>\n",
       "      <td>665.0</td>\n",
       "    </tr>\n",
       "    <tr>\n",
       "      <th>2</th>\n",
       "      <td>Japan</td>\n",
       "      <td>65.0</td>\n",
       "      <td>151.0</td>\n",
       "    </tr>\n",
       "    <tr>\n",
       "      <th>3</th>\n",
       "      <td>Spain</td>\n",
       "      <td>130.0</td>\n",
       "      <td>43.0</td>\n",
       "    </tr>\n",
       "    <tr>\n",
       "      <th>4</th>\n",
       "      <td>United Kingdom</td>\n",
       "      <td>341.0</td>\n",
       "      <td>218.0</td>\n",
       "    </tr>\n",
       "    <tr>\n",
       "      <th>5</th>\n",
       "      <td>Canada</td>\n",
       "      <td>195.0</td>\n",
       "      <td>105.0</td>\n",
       "    </tr>\n",
       "  </tbody>\n",
       "</table>\n",
       "</div>"
      ],
      "text/plain": [
       "          Country  No. of movies  No. of TV Show\n",
       "0           India          699.0            54.0\n",
       "1   United States         1756.0           665.0\n",
       "2           Japan           65.0           151.0\n",
       "3           Spain          130.0            43.0\n",
       "4  United Kingdom          341.0           218.0\n",
       "5          Canada          195.0           105.0"
      ]
     },
     "execution_count": 74,
     "metadata": {},
     "output_type": "execute_result"
    }
   ],
   "source": [
    "#Creating a new dataframe with calculated fields to plot the graph with numbers in each country.\n",
    "data = {\"Country\" : selected_country,\n",
    "       \"No. of movies\" : movie_count,\n",
    "       \"No. of TV Show\" : tv_count}\n",
    "\n",
    "df_country_wise = pd.DataFrame(data)\n",
    "df_country_wise"
   ]
  },
  {
   "cell_type": "code",
   "execution_count": 88,
   "id": "8eb75c2f",
   "metadata": {},
   "outputs": [
    {
     "data": {
      "image/png": "[encoded data removed]",
      "text/plain": [
       "<Figure size 640x480 with 1 Axes>"
      ]
     },
     "metadata": {},
     "output_type": "display_data"
    }
   ],
   "source": [
    "df_country_wise.plot(x= \"Country\", y= [\"No. of movies\",\"No. of TV Show\"], kind = \"bar\")\n",
    "plt.show()"
   ]
  },
  {
   "cell_type": "markdown",
   "id": "3e9d176e",
   "metadata": {},
   "source": [
    "#### Task 4:  \n",
    "Plot a graph showing the number of TV Shows and Movies added to Netflix every year."
   ]
  },
  {
   "cell_type": "code",
   "execution_count": 89,
   "id": "5badf6f9",
   "metadata": {},
   "outputs": [],
   "source": [
    "#Creating a \"year\" column from date column using split()\n",
    "df[\"year_added\"] = df[\"date_added\"].str.split(\",\", expand = True)[1]"
   ]
  },
  {
   "cell_type": "code",
   "execution_count": 90,
   "id": "458f3643",
   "metadata": {},
   "outputs": [
    {
     "name": "stdout",
     "output_type": "stream",
     "text": [
      "<class 'pandas.core.frame.DataFrame'>\n",
      "RangeIndex: 5837 entries, 0 to 5836\n",
      "Data columns (total 13 columns):\n",
      " #   Column        Non-Null Count  Dtype \n",
      "---  ------        --------------  ----- \n",
      " 0   show_id       5837 non-null   int64 \n",
      " 1   title         5837 non-null   object\n",
      " 2   director      3936 non-null   object\n",
      " 3   cast          5281 non-null   object\n",
      " 4   country       5410 non-null   object\n",
      " 5   date_added    5195 non-null   object\n",
      " 6   release_year  5837 non-null   int64 \n",
      " 7   rating        5827 non-null   object\n",
      " 8   duration      5837 non-null   object\n",
      " 9   listed_in     5837 non-null   object\n",
      " 10  description   5837 non-null   object\n",
      " 11  type          5837 non-null   object\n",
      " 12  year_added    5195 non-null   object\n",
      "dtypes: int64(2), object(11)\n",
      "memory usage: 592.9+ KB\n"
     ]
    }
   ],
   "source": [
    "df.info()"
   ]
  },
  {
   "cell_type": "code",
   "execution_count": 78,
   "id": "9c6f64a8",
   "metadata": {},
   "outputs": [
    {
     "data": {
      "text/plain": [
       " 2019    1843\n",
       " 2018    1629\n",
       " 2017    1184\n",
       " 2016     412\n",
       " 2015      74\n",
       " 2014      19\n",
       " 2011      13\n",
       " 2013       9\n",
       " 2012       7\n",
       " 2009       2\n",
       " 2008       2\n",
       " 2010       1\n",
       "Name: year_added, dtype: int64"
      ]
     },
     "execution_count": 78,
     "metadata": {},
     "output_type": "execute_result"
    }
   ],
   "source": [
    "df[\"year_added\"].value_counts()"
   ]
  },
  {
   "cell_type": "code",
   "execution_count": 92,
   "id": "1d99d90c",
   "metadata": {
    "scrolled": false
   },
   "outputs": [
    {
     "data": {
      "image/png": "[encoded data removed]",
      "text/plain": [
       "<Figure size 1000x500 with 1 Axes>"
      ]
     },
     "metadata": {},
     "output_type": "display_data"
    }
   ],
   "source": [
    "fig, ax = plt.subplots(figsize=(10,5))\n",
    "\n",
    "c1 = sns.countplot(data=df,x= 'year_added', ax=ax)\n",
    "\n",
    "abs_val = df[\"year_added\"].value_counts().values\n",
    "\n",
    "#For data label\n",
    "c1.bar_label(container = c1.containers[0], labels = abs_val)\n",
    "\n",
    "plt.title('Number of TV Shows and Movies added every year')\n",
    "plt.xlabel('Year')\n",
    "plt.show()"
   ]
  },
  {
   "cell_type": "code",
   "execution_count": null,
   "id": "a4875c41",
   "metadata": {},
   "outputs": [],
   "source": []
  },
  {
   "cell_type": "markdown",
   "id": "619a5aa5",
   "metadata": {},
   "source": [
    "#### Task 5:  \n",
    "In 2019, Find out if Netflix has added more TV Shows or Movies to their platform and represent the same visually"
   ]
  },
  {
   "cell_type": "code",
   "execution_count": 80,
   "id": "e4aa59a5",
   "metadata": {},
   "outputs": [
    {
     "data": {
      "text/plain": [
       "'2019'"
      ]
     },
     "execution_count": 80,
     "metadata": {},
     "output_type": "execute_result"
    }
   ],
   "source": [
    "#removing extra spaces in the string in \"year\" column\n",
    "df[\"year_added\"] = df[\"year_added\"].str.strip()\n",
    "\n",
    "#Checking for the sample value for removed whitespaces\n",
    "df['year_added'].values[0]"
   ]
  },
  {
   "cell_type": "code",
   "execution_count": 81,
   "id": "5a564984",
   "metadata": {
    "scrolled": true
   },
   "outputs": [
    {
     "data": {
      "text/html": [
       "<div>\n",
       "<style scoped>\n",
       "    .dataframe tbody tr th:only-of-type {\n",
       "        vertical-align: middle;\n",
       "    }\n",
       "\n",
       "    .dataframe tbody tr th {\n",
       "        vertical-align: top;\n",
       "    }\n",
       "\n",
       "    .dataframe thead th {\n",
       "        text-align: right;\n",
       "    }\n",
       "</style>\n",
       "<table border=\"1\" class=\"dataframe\">\n",
       "  <thead>\n",
       "    <tr style=\"text-align: right;\">\n",
       "      <th></th>\n",
       "      <th>show_id</th>\n",
       "      <th>title</th>\n",
       "      <th>director</th>\n",
       "      <th>cast</th>\n",
       "      <th>country</th>\n",
       "      <th>date_added</th>\n",
       "      <th>release_year</th>\n",
       "      <th>rating</th>\n",
       "      <th>duration</th>\n",
       "      <th>listed_in</th>\n",
       "      <th>description</th>\n",
       "      <th>type</th>\n",
       "      <th>year_added</th>\n",
       "    </tr>\n",
       "  </thead>\n",
       "  <tbody>\n",
       "    <tr>\n",
       "      <th>0</th>\n",
       "      <td>81193313</td>\n",
       "      <td>Chocolate</td>\n",
       "      <td>NaN</td>\n",
       "      <td>Ha Ji-won, Yoon Kye-sang, Jang Seung-jo, Kang ...</td>\n",
       "      <td>South Korea</td>\n",
       "      <td>November 30, 2019</td>\n",
       "      <td>2019</td>\n",
       "      <td>TV-14</td>\n",
       "      <td>1 Season</td>\n",
       "      <td>International TV Shows, Korean TV Shows, Roman...</td>\n",
       "      <td>Brought together by meaningful meals in the pa...</td>\n",
       "      <td>TV Show</td>\n",
       "      <td>2019</td>\n",
       "    </tr>\n",
       "    <tr>\n",
       "      <th>1</th>\n",
       "      <td>81197050</td>\n",
       "      <td>Guatemala: Heart of the Mayan World</td>\n",
       "      <td>Luis Ara, Ignacio Jaunsolo</td>\n",
       "      <td>Christian Morales</td>\n",
       "      <td>NaN</td>\n",
       "      <td>November 30, 2019</td>\n",
       "      <td>2019</td>\n",
       "      <td>TV-G</td>\n",
       "      <td>67 min</td>\n",
       "      <td>Documentaries, International Movies</td>\n",
       "      <td>From Sierra de las Minas to Esquipulas, explor...</td>\n",
       "      <td>Movie</td>\n",
       "      <td>2019</td>\n",
       "    </tr>\n",
       "    <tr>\n",
       "      <th>2</th>\n",
       "      <td>81213894</td>\n",
       "      <td>The Zoya Factor</td>\n",
       "      <td>Abhishek Sharma</td>\n",
       "      <td>Sonam Kapoor, Dulquer Salmaan, Sanjay Kapoor, ...</td>\n",
       "      <td>India</td>\n",
       "      <td>November 30, 2019</td>\n",
       "      <td>2019</td>\n",
       "      <td>TV-14</td>\n",
       "      <td>135 min</td>\n",
       "      <td>Comedies, Dramas, International Movies</td>\n",
       "      <td>A goofy copywriter unwittingly convinces the I...</td>\n",
       "      <td>Movie</td>\n",
       "      <td>2019</td>\n",
       "    </tr>\n",
       "    <tr>\n",
       "      <th>3</th>\n",
       "      <td>81082007</td>\n",
       "      <td>Atlantics</td>\n",
       "      <td>Mati Diop</td>\n",
       "      <td>Mama Sane, Amadou Mbow, Ibrahima Traore, Nicol...</td>\n",
       "      <td>France, Senegal, Belgium</td>\n",
       "      <td>November 29, 2019</td>\n",
       "      <td>2019</td>\n",
       "      <td>TV-14</td>\n",
       "      <td>106 min</td>\n",
       "      <td>Dramas, Independent Movies, International Movies</td>\n",
       "      <td>Arranged to marry a rich man, young Ada is cru...</td>\n",
       "      <td>Movie</td>\n",
       "      <td>2019</td>\n",
       "    </tr>\n",
       "    <tr>\n",
       "      <th>5</th>\n",
       "      <td>81172754</td>\n",
       "      <td>Crazy people</td>\n",
       "      <td>Moses Inwang</td>\n",
       "      <td>Ramsey Nouah, Chigul, Sola Sobowale, Ireti Doy...</td>\n",
       "      <td>Nigeria</td>\n",
       "      <td>November 29, 2019</td>\n",
       "      <td>2018</td>\n",
       "      <td>TV-14</td>\n",
       "      <td>107 min</td>\n",
       "      <td>Comedies, International Movies, Thrillers</td>\n",
       "      <td>Nollywood star Ramsey Nouah learns that someon...</td>\n",
       "      <td>Movie</td>\n",
       "      <td>2019</td>\n",
       "    </tr>\n",
       "  </tbody>\n",
       "</table>\n",
       "</div>"
      ],
      "text/plain": [
       "    show_id                                title                    director  \\\n",
       "0  81193313                            Chocolate                         NaN   \n",
       "1  81197050  Guatemala: Heart of the Mayan World  Luis Ara, Ignacio Jaunsolo   \n",
       "2  81213894                      The Zoya Factor             Abhishek Sharma   \n",
       "3  81082007                            Atlantics                   Mati Diop   \n",
       "5  81172754                         Crazy people                Moses Inwang   \n",
       "\n",
       "                                                cast  \\\n",
       "0  Ha Ji-won, Yoon Kye-sang, Jang Seung-jo, Kang ...   \n",
       "1                                  Christian Morales   \n",
       "2  Sonam Kapoor, Dulquer Salmaan, Sanjay Kapoor, ...   \n",
       "3  Mama Sane, Amadou Mbow, Ibrahima Traore, Nicol...   \n",
       "5  Ramsey Nouah, Chigul, Sola Sobowale, Ireti Doy...   \n",
       "\n",
       "                    country         date_added  release_year rating  duration  \\\n",
       "0               South Korea  November 30, 2019          2019  TV-14  1 Season   \n",
       "1                       NaN  November 30, 2019          2019   TV-G    67 min   \n",
       "2                     India  November 30, 2019          2019  TV-14   135 min   \n",
       "3  France, Senegal, Belgium  November 29, 2019          2019  TV-14   106 min   \n",
       "5                   Nigeria  November 29, 2019          2018  TV-14   107 min   \n",
       "\n",
       "                                           listed_in  \\\n",
       "0  International TV Shows, Korean TV Shows, Roman...   \n",
       "1                Documentaries, International Movies   \n",
       "2             Comedies, Dramas, International Movies   \n",
       "3   Dramas, Independent Movies, International Movies   \n",
       "5          Comedies, International Movies, Thrillers   \n",
       "\n",
       "                                         description     type year_added  \n",
       "0  Brought together by meaningful meals in the pa...  TV Show       2019  \n",
       "1  From Sierra de las Minas to Esquipulas, explor...    Movie       2019  \n",
       "2  A goofy copywriter unwittingly convinces the I...    Movie       2019  \n",
       "3  Arranged to marry a rich man, young Ada is cru...    Movie       2019  \n",
       "5  Nollywood star Ramsey Nouah learns that someon...    Movie       2019  "
      ]
     },
     "execution_count": 81,
     "metadata": {},
     "output_type": "execute_result"
    }
   ],
   "source": [
    "df_2019 = df[df[\"year_added\"] == \"2019\"]\n",
    "df_2019.head()"
   ]
  },
  {
   "cell_type": "code",
   "execution_count": 82,
   "id": "cd4d3c7e",
   "metadata": {},
   "outputs": [
    {
     "data": {
      "text/plain": [
       "Movie      1367\n",
       "TV Show     476\n",
       "Name: type, dtype: int64"
      ]
     },
     "execution_count": 82,
     "metadata": {},
     "output_type": "execute_result"
    }
   ],
   "source": [
    "df_2019[\"type\"].value_counts()"
   ]
  },
  {
   "cell_type": "code",
   "execution_count": 96,
   "id": "c2a9ffe7",
   "metadata": {},
   "outputs": [
    {
     "data": {
      "image/png": "[encoded data removed]",
      "text/plain": [
       "<Figure size 1000x500 with 1 Axes>"
      ]
     },
     "metadata": {},
     "output_type": "display_data"
    }
   ],
   "source": [
    "fig, ax = plt.subplots(figsize=(10,5))\n",
    "\n",
    "#Plotting the number on a bar graph\n",
    "c2 = sns.countplot(data=df_2019, x='type', ax=ax, width = 0.3)\n",
    "\n",
    "type_vals = df_2019[\"type\"].value_counts(ascending=True).values\n",
    "\n",
    "#For data labels\n",
    "c2.bar_label(container = c2.containers[0], labels = type_vals)\n",
    "\n",
    "plt.title('Number of TV Shows and Movies added in 2019')\n",
    "plt.xlabel('Type')\n",
    "plt.show()"
   ]
  }
 ],
 "metadata": {
  "kernelspec": {
   "display_name": "Python 3 (ipykernel)",
   "language": "python",
   "name": "python3"
  },
  "language_info": {
   "codemirror_mode": {
    "name": "ipython",
    "version": 3
   },
   "file_extension": ".py",
   "mimetype": "text/x-python",
   "name": "python",
   "nbconvert_exporter": "python",
   "pygments_lexer": "ipython3",
   "version": "3.9.16"
  }
 },
 "nbformat": 4,
 "nbformat_minor": 5
}
