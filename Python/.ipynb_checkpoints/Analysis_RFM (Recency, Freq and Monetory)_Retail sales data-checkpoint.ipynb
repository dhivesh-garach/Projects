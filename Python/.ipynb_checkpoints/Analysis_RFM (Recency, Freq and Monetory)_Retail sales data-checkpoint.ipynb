{
 "cells": [
  {
   "cell_type": "code",
   "execution_count": 2,
   "id": "35f206e0",
   "metadata": {},
   "outputs": [],
   "source": [
    "import pandas as pd"
   ]
  },
  {
   "cell_type": "code",
   "execution_count": 3,
   "id": "5fc06fc6",
   "metadata": {},
   "outputs": [
    {
     "ename": "FileNotFoundError",
     "evalue": "[Errno 2] No such file or directory: 'retail.csv'",
     "output_type": "error",
     "traceback": [
      "\u001b[1;31m---------------------------------------------------------------------------\u001b[0m",
      "\u001b[1;31mFileNotFoundError\u001b[0m                         Traceback (most recent call last)",
      "Cell \u001b[1;32mIn[3], line 1\u001b[0m\n\u001b[1;32m----> 1\u001b[0m df \u001b[38;5;241m=\u001b[39m \u001b[43mpd\u001b[49m\u001b[38;5;241;43m.\u001b[39;49m\u001b[43mread_csv\u001b[49m\u001b[43m(\u001b[49m\u001b[38;5;124;43m\"\u001b[39;49m\u001b[38;5;124;43mretail.csv\u001b[39;49m\u001b[38;5;124;43m\"\u001b[39;49m\u001b[43m)\u001b[49m\n\u001b[0;32m      2\u001b[0m df\u001b[38;5;241m.\u001b[39mhead()\n",
      "File \u001b[1;32m~\\anaconda3\\lib\\site-packages\\pandas\\util\\_decorators.py:211\u001b[0m, in \u001b[0;36mdeprecate_kwarg.<locals>._deprecate_kwarg.<locals>.wrapper\u001b[1;34m(*args, **kwargs)\u001b[0m\n\u001b[0;32m    209\u001b[0m     \u001b[38;5;28;01melse\u001b[39;00m:\n\u001b[0;32m    210\u001b[0m         kwargs[new_arg_name] \u001b[38;5;241m=\u001b[39m new_arg_value\n\u001b[1;32m--> 211\u001b[0m \u001b[38;5;28;01mreturn\u001b[39;00m func(\u001b[38;5;241m*\u001b[39margs, \u001b[38;5;241m*\u001b[39m\u001b[38;5;241m*\u001b[39mkwargs)\n",
      "File \u001b[1;32m~\\anaconda3\\lib\\site-packages\\pandas\\util\\_decorators.py:331\u001b[0m, in \u001b[0;36mdeprecate_nonkeyword_arguments.<locals>.decorate.<locals>.wrapper\u001b[1;34m(*args, **kwargs)\u001b[0m\n\u001b[0;32m    325\u001b[0m \u001b[38;5;28;01mif\u001b[39;00m \u001b[38;5;28mlen\u001b[39m(args) \u001b[38;5;241m>\u001b[39m num_allow_args:\n\u001b[0;32m    326\u001b[0m     warnings\u001b[38;5;241m.\u001b[39mwarn(\n\u001b[0;32m    327\u001b[0m         msg\u001b[38;5;241m.\u001b[39mformat(arguments\u001b[38;5;241m=\u001b[39m_format_argument_list(allow_args)),\n\u001b[0;32m    328\u001b[0m         \u001b[38;5;167;01mFutureWarning\u001b[39;00m,\n\u001b[0;32m    329\u001b[0m         stacklevel\u001b[38;5;241m=\u001b[39mfind_stack_level(),\n\u001b[0;32m    330\u001b[0m     )\n\u001b[1;32m--> 331\u001b[0m \u001b[38;5;28;01mreturn\u001b[39;00m func(\u001b[38;5;241m*\u001b[39margs, \u001b[38;5;241m*\u001b[39m\u001b[38;5;241m*\u001b[39mkwargs)\n",
      "File \u001b[1;32m~\\anaconda3\\lib\\site-packages\\pandas\\io\\parsers\\readers.py:950\u001b[0m, in \u001b[0;36mread_csv\u001b[1;34m(filepath_or_buffer, sep, delimiter, header, names, index_col, usecols, squeeze, prefix, mangle_dupe_cols, dtype, engine, converters, true_values, false_values, skipinitialspace, skiprows, skipfooter, nrows, na_values, keep_default_na, na_filter, verbose, skip_blank_lines, parse_dates, infer_datetime_format, keep_date_col, date_parser, dayfirst, cache_dates, iterator, chunksize, compression, thousands, decimal, lineterminator, quotechar, quoting, doublequote, escapechar, comment, encoding, encoding_errors, dialect, error_bad_lines, warn_bad_lines, on_bad_lines, delim_whitespace, low_memory, memory_map, float_precision, storage_options)\u001b[0m\n\u001b[0;32m    935\u001b[0m kwds_defaults \u001b[38;5;241m=\u001b[39m _refine_defaults_read(\n\u001b[0;32m    936\u001b[0m     dialect,\n\u001b[0;32m    937\u001b[0m     delimiter,\n\u001b[1;32m   (...)\u001b[0m\n\u001b[0;32m    946\u001b[0m     defaults\u001b[38;5;241m=\u001b[39m{\u001b[38;5;124m\"\u001b[39m\u001b[38;5;124mdelimiter\u001b[39m\u001b[38;5;124m\"\u001b[39m: \u001b[38;5;124m\"\u001b[39m\u001b[38;5;124m,\u001b[39m\u001b[38;5;124m\"\u001b[39m},\n\u001b[0;32m    947\u001b[0m )\n\u001b[0;32m    948\u001b[0m kwds\u001b[38;5;241m.\u001b[39mupdate(kwds_defaults)\n\u001b[1;32m--> 950\u001b[0m \u001b[38;5;28;01mreturn\u001b[39;00m \u001b[43m_read\u001b[49m\u001b[43m(\u001b[49m\u001b[43mfilepath_or_buffer\u001b[49m\u001b[43m,\u001b[49m\u001b[43m \u001b[49m\u001b[43mkwds\u001b[49m\u001b[43m)\u001b[49m\n",
      "File \u001b[1;32m~\\anaconda3\\lib\\site-packages\\pandas\\io\\parsers\\readers.py:605\u001b[0m, in \u001b[0;36m_read\u001b[1;34m(filepath_or_buffer, kwds)\u001b[0m\n\u001b[0;32m    602\u001b[0m _validate_names(kwds\u001b[38;5;241m.\u001b[39mget(\u001b[38;5;124m\"\u001b[39m\u001b[38;5;124mnames\u001b[39m\u001b[38;5;124m\"\u001b[39m, \u001b[38;5;28;01mNone\u001b[39;00m))\n\u001b[0;32m    604\u001b[0m \u001b[38;5;66;03m# Create the parser.\u001b[39;00m\n\u001b[1;32m--> 605\u001b[0m parser \u001b[38;5;241m=\u001b[39m TextFileReader(filepath_or_buffer, \u001b[38;5;241m*\u001b[39m\u001b[38;5;241m*\u001b[39mkwds)\n\u001b[0;32m    607\u001b[0m \u001b[38;5;28;01mif\u001b[39;00m chunksize \u001b[38;5;129;01mor\u001b[39;00m iterator:\n\u001b[0;32m    608\u001b[0m     \u001b[38;5;28;01mreturn\u001b[39;00m parser\n",
      "File \u001b[1;32m~\\anaconda3\\lib\\site-packages\\pandas\\io\\parsers\\readers.py:1442\u001b[0m, in \u001b[0;36mTextFileReader.__init__\u001b[1;34m(self, f, engine, **kwds)\u001b[0m\n\u001b[0;32m   1439\u001b[0m     \u001b[38;5;28mself\u001b[39m\u001b[38;5;241m.\u001b[39moptions[\u001b[38;5;124m\"\u001b[39m\u001b[38;5;124mhas_index_names\u001b[39m\u001b[38;5;124m\"\u001b[39m] \u001b[38;5;241m=\u001b[39m kwds[\u001b[38;5;124m\"\u001b[39m\u001b[38;5;124mhas_index_names\u001b[39m\u001b[38;5;124m\"\u001b[39m]\n\u001b[0;32m   1441\u001b[0m \u001b[38;5;28mself\u001b[39m\u001b[38;5;241m.\u001b[39mhandles: IOHandles \u001b[38;5;241m|\u001b[39m \u001b[38;5;28;01mNone\u001b[39;00m \u001b[38;5;241m=\u001b[39m \u001b[38;5;28;01mNone\u001b[39;00m\n\u001b[1;32m-> 1442\u001b[0m \u001b[38;5;28mself\u001b[39m\u001b[38;5;241m.\u001b[39m_engine \u001b[38;5;241m=\u001b[39m \u001b[38;5;28;43mself\u001b[39;49m\u001b[38;5;241;43m.\u001b[39;49m\u001b[43m_make_engine\u001b[49m\u001b[43m(\u001b[49m\u001b[43mf\u001b[49m\u001b[43m,\u001b[49m\u001b[43m \u001b[49m\u001b[38;5;28;43mself\u001b[39;49m\u001b[38;5;241;43m.\u001b[39;49m\u001b[43mengine\u001b[49m\u001b[43m)\u001b[49m\n",
      "File \u001b[1;32m~\\anaconda3\\lib\\site-packages\\pandas\\io\\parsers\\readers.py:1735\u001b[0m, in \u001b[0;36mTextFileReader._make_engine\u001b[1;34m(self, f, engine)\u001b[0m\n\u001b[0;32m   1733\u001b[0m     \u001b[38;5;28;01mif\u001b[39;00m \u001b[38;5;124m\"\u001b[39m\u001b[38;5;124mb\u001b[39m\u001b[38;5;124m\"\u001b[39m \u001b[38;5;129;01mnot\u001b[39;00m \u001b[38;5;129;01min\u001b[39;00m mode:\n\u001b[0;32m   1734\u001b[0m         mode \u001b[38;5;241m+\u001b[39m\u001b[38;5;241m=\u001b[39m \u001b[38;5;124m\"\u001b[39m\u001b[38;5;124mb\u001b[39m\u001b[38;5;124m\"\u001b[39m\n\u001b[1;32m-> 1735\u001b[0m \u001b[38;5;28mself\u001b[39m\u001b[38;5;241m.\u001b[39mhandles \u001b[38;5;241m=\u001b[39m \u001b[43mget_handle\u001b[49m\u001b[43m(\u001b[49m\n\u001b[0;32m   1736\u001b[0m \u001b[43m    \u001b[49m\u001b[43mf\u001b[49m\u001b[43m,\u001b[49m\n\u001b[0;32m   1737\u001b[0m \u001b[43m    \u001b[49m\u001b[43mmode\u001b[49m\u001b[43m,\u001b[49m\n\u001b[0;32m   1738\u001b[0m \u001b[43m    \u001b[49m\u001b[43mencoding\u001b[49m\u001b[38;5;241;43m=\u001b[39;49m\u001b[38;5;28;43mself\u001b[39;49m\u001b[38;5;241;43m.\u001b[39;49m\u001b[43moptions\u001b[49m\u001b[38;5;241;43m.\u001b[39;49m\u001b[43mget\u001b[49m\u001b[43m(\u001b[49m\u001b[38;5;124;43m\"\u001b[39;49m\u001b[38;5;124;43mencoding\u001b[39;49m\u001b[38;5;124;43m\"\u001b[39;49m\u001b[43m,\u001b[49m\u001b[43m \u001b[49m\u001b[38;5;28;43;01mNone\u001b[39;49;00m\u001b[43m)\u001b[49m\u001b[43m,\u001b[49m\n\u001b[0;32m   1739\u001b[0m \u001b[43m    \u001b[49m\u001b[43mcompression\u001b[49m\u001b[38;5;241;43m=\u001b[39;49m\u001b[38;5;28;43mself\u001b[39;49m\u001b[38;5;241;43m.\u001b[39;49m\u001b[43moptions\u001b[49m\u001b[38;5;241;43m.\u001b[39;49m\u001b[43mget\u001b[49m\u001b[43m(\u001b[49m\u001b[38;5;124;43m\"\u001b[39;49m\u001b[38;5;124;43mcompression\u001b[39;49m\u001b[38;5;124;43m\"\u001b[39;49m\u001b[43m,\u001b[49m\u001b[43m \u001b[49m\u001b[38;5;28;43;01mNone\u001b[39;49;00m\u001b[43m)\u001b[49m\u001b[43m,\u001b[49m\n\u001b[0;32m   1740\u001b[0m \u001b[43m    \u001b[49m\u001b[43mmemory_map\u001b[49m\u001b[38;5;241;43m=\u001b[39;49m\u001b[38;5;28;43mself\u001b[39;49m\u001b[38;5;241;43m.\u001b[39;49m\u001b[43moptions\u001b[49m\u001b[38;5;241;43m.\u001b[39;49m\u001b[43mget\u001b[49m\u001b[43m(\u001b[49m\u001b[38;5;124;43m\"\u001b[39;49m\u001b[38;5;124;43mmemory_map\u001b[39;49m\u001b[38;5;124;43m\"\u001b[39;49m\u001b[43m,\u001b[49m\u001b[43m \u001b[49m\u001b[38;5;28;43;01mFalse\u001b[39;49;00m\u001b[43m)\u001b[49m\u001b[43m,\u001b[49m\n\u001b[0;32m   1741\u001b[0m \u001b[43m    \u001b[49m\u001b[43mis_text\u001b[49m\u001b[38;5;241;43m=\u001b[39;49m\u001b[43mis_text\u001b[49m\u001b[43m,\u001b[49m\n\u001b[0;32m   1742\u001b[0m \u001b[43m    \u001b[49m\u001b[43merrors\u001b[49m\u001b[38;5;241;43m=\u001b[39;49m\u001b[38;5;28;43mself\u001b[39;49m\u001b[38;5;241;43m.\u001b[39;49m\u001b[43moptions\u001b[49m\u001b[38;5;241;43m.\u001b[39;49m\u001b[43mget\u001b[49m\u001b[43m(\u001b[49m\u001b[38;5;124;43m\"\u001b[39;49m\u001b[38;5;124;43mencoding_errors\u001b[39;49m\u001b[38;5;124;43m\"\u001b[39;49m\u001b[43m,\u001b[49m\u001b[43m \u001b[49m\u001b[38;5;124;43m\"\u001b[39;49m\u001b[38;5;124;43mstrict\u001b[39;49m\u001b[38;5;124;43m\"\u001b[39;49m\u001b[43m)\u001b[49m\u001b[43m,\u001b[49m\n\u001b[0;32m   1743\u001b[0m \u001b[43m    \u001b[49m\u001b[43mstorage_options\u001b[49m\u001b[38;5;241;43m=\u001b[39;49m\u001b[38;5;28;43mself\u001b[39;49m\u001b[38;5;241;43m.\u001b[39;49m\u001b[43moptions\u001b[49m\u001b[38;5;241;43m.\u001b[39;49m\u001b[43mget\u001b[49m\u001b[43m(\u001b[49m\u001b[38;5;124;43m\"\u001b[39;49m\u001b[38;5;124;43mstorage_options\u001b[39;49m\u001b[38;5;124;43m\"\u001b[39;49m\u001b[43m,\u001b[49m\u001b[43m \u001b[49m\u001b[38;5;28;43;01mNone\u001b[39;49;00m\u001b[43m)\u001b[49m\u001b[43m,\u001b[49m\n\u001b[0;32m   1744\u001b[0m \u001b[43m\u001b[49m\u001b[43m)\u001b[49m\n\u001b[0;32m   1745\u001b[0m \u001b[38;5;28;01massert\u001b[39;00m \u001b[38;5;28mself\u001b[39m\u001b[38;5;241m.\u001b[39mhandles \u001b[38;5;129;01mis\u001b[39;00m \u001b[38;5;129;01mnot\u001b[39;00m \u001b[38;5;28;01mNone\u001b[39;00m\n\u001b[0;32m   1746\u001b[0m f \u001b[38;5;241m=\u001b[39m \u001b[38;5;28mself\u001b[39m\u001b[38;5;241m.\u001b[39mhandles\u001b[38;5;241m.\u001b[39mhandle\n",
      "File \u001b[1;32m~\\anaconda3\\lib\\site-packages\\pandas\\io\\common.py:856\u001b[0m, in \u001b[0;36mget_handle\u001b[1;34m(path_or_buf, mode, encoding, compression, memory_map, is_text, errors, storage_options)\u001b[0m\n\u001b[0;32m    851\u001b[0m \u001b[38;5;28;01melif\u001b[39;00m \u001b[38;5;28misinstance\u001b[39m(handle, \u001b[38;5;28mstr\u001b[39m):\n\u001b[0;32m    852\u001b[0m     \u001b[38;5;66;03m# Check whether the filename is to be opened in binary mode.\u001b[39;00m\n\u001b[0;32m    853\u001b[0m     \u001b[38;5;66;03m# Binary mode does not support 'encoding' and 'newline'.\u001b[39;00m\n\u001b[0;32m    854\u001b[0m     \u001b[38;5;28;01mif\u001b[39;00m ioargs\u001b[38;5;241m.\u001b[39mencoding \u001b[38;5;129;01mand\u001b[39;00m \u001b[38;5;124m\"\u001b[39m\u001b[38;5;124mb\u001b[39m\u001b[38;5;124m\"\u001b[39m \u001b[38;5;129;01mnot\u001b[39;00m \u001b[38;5;129;01min\u001b[39;00m ioargs\u001b[38;5;241m.\u001b[39mmode:\n\u001b[0;32m    855\u001b[0m         \u001b[38;5;66;03m# Encoding\u001b[39;00m\n\u001b[1;32m--> 856\u001b[0m         handle \u001b[38;5;241m=\u001b[39m \u001b[38;5;28;43mopen\u001b[39;49m\u001b[43m(\u001b[49m\n\u001b[0;32m    857\u001b[0m \u001b[43m            \u001b[49m\u001b[43mhandle\u001b[49m\u001b[43m,\u001b[49m\n\u001b[0;32m    858\u001b[0m \u001b[43m            \u001b[49m\u001b[43mioargs\u001b[49m\u001b[38;5;241;43m.\u001b[39;49m\u001b[43mmode\u001b[49m\u001b[43m,\u001b[49m\n\u001b[0;32m    859\u001b[0m \u001b[43m            \u001b[49m\u001b[43mencoding\u001b[49m\u001b[38;5;241;43m=\u001b[39;49m\u001b[43mioargs\u001b[49m\u001b[38;5;241;43m.\u001b[39;49m\u001b[43mencoding\u001b[49m\u001b[43m,\u001b[49m\n\u001b[0;32m    860\u001b[0m \u001b[43m            \u001b[49m\u001b[43merrors\u001b[49m\u001b[38;5;241;43m=\u001b[39;49m\u001b[43merrors\u001b[49m\u001b[43m,\u001b[49m\n\u001b[0;32m    861\u001b[0m \u001b[43m            \u001b[49m\u001b[43mnewline\u001b[49m\u001b[38;5;241;43m=\u001b[39;49m\u001b[38;5;124;43m\"\u001b[39;49m\u001b[38;5;124;43m\"\u001b[39;49m\u001b[43m,\u001b[49m\n\u001b[0;32m    862\u001b[0m \u001b[43m        \u001b[49m\u001b[43m)\u001b[49m\n\u001b[0;32m    863\u001b[0m     \u001b[38;5;28;01melse\u001b[39;00m:\n\u001b[0;32m    864\u001b[0m         \u001b[38;5;66;03m# Binary mode\u001b[39;00m\n\u001b[0;32m    865\u001b[0m         handle \u001b[38;5;241m=\u001b[39m \u001b[38;5;28mopen\u001b[39m(handle, ioargs\u001b[38;5;241m.\u001b[39mmode)\n",
      "\u001b[1;31mFileNotFoundError\u001b[0m: [Errno 2] No such file or directory: 'retail.csv'"
     ]
    }
   ],
   "source": [
    "df = pd.read_csv(\"retail.csv\")\n",
    "df.head()"
   ]
  },
  {
   "cell_type": "code",
   "execution_count": null,
   "id": "0691e562",
   "metadata": {},
   "outputs": [],
   "source": [
    "df.info()"
   ]
  },
  {
   "cell_type": "code",
   "execution_count": null,
   "id": "c5129cdd",
   "metadata": {},
   "outputs": [],
   "source": [
    "#Checking for missing values in data\n",
    "df.isnull().sum()"
   ]
  },
  {
   "cell_type": "code",
   "execution_count": null,
   "id": "994e895f",
   "metadata": {},
   "outputs": [],
   "source": [
    "#Removing the rows with missing values\n",
    "df.dropna(subset= \"Customer ID\", inplace = True)"
   ]
  },
  {
   "cell_type": "code",
   "execution_count": null,
   "id": "43018d71",
   "metadata": {},
   "outputs": [],
   "source": [
    "df.isnull().sum()"
   ]
  },
  {
   "cell_type": "code",
   "execution_count": null,
   "id": "de19a308",
   "metadata": {},
   "outputs": [],
   "source": [
    "#Converting the data type to datetime format \n",
    "df[\"InvoiceDate\"] = pd.to_datetime(df[\"InvoiceDate\"])"
   ]
  },
  {
   "cell_type": "code",
   "execution_count": null,
   "id": "b88a55d7",
   "metadata": {
    "scrolled": false
   },
   "outputs": [],
   "source": [
    "df.info()"
   ]
  },
  {
   "cell_type": "markdown",
   "id": "2d36a1be",
   "metadata": {},
   "source": [
    "#### Task 1:\n",
    "We will need to compute the following for each customer:  \n",
    "\n",
    "1. The number of times a customer has made transactions. If in a single day a customer has made 3 transactions, count them as 3 separate transactions. This is the frequency in RFM.  \n",
    "\n",
    "2. The total and average revenue per customer. To arrive at revenue, you will need to multiply the Quantity and Price columns. You will also need to clean the Price column for any data quality issues. This will become the monetary term in RFM.  \n",
    "\n",
    "3. Lastly we will need to find the recency of the last purchase. This can be computed by finding the number of days that have elapsed from the last purchase each customer has made. You can use a base date of 01/01/2012 to compute recency. Find out the number of days elapsed from 01/01/2012 for each customer's most recent purchase.  "
   ]
  },
  {
   "cell_type": "code",
   "execution_count": null,
   "id": "6b589b81",
   "metadata": {},
   "outputs": [],
   "source": [
    "#Fixing the incorrect decimal point format for prices \n",
    "df[\"Price\"] = df[\"Price\"].str.replace(\",\" , \".\")"
   ]
  },
  {
   "cell_type": "code",
   "execution_count": null,
   "id": "585d7586",
   "metadata": {},
   "outputs": [],
   "source": [
    "#Converting the data type to numeric for ease of mathematical operations\n",
    "df[\"Price\"] = pd.to_numeric(df[\"Price\"])"
   ]
  },
  {
   "cell_type": "code",
   "execution_count": null,
   "id": "f874bc0b",
   "metadata": {
    "scrolled": true
   },
   "outputs": [],
   "source": [
    "df[\"Revenue\"] = df[\"Quantity\"] * df[\"Price\"]\n",
    "df.head()"
   ]
  },
  {
   "cell_type": "code",
   "execution_count": null,
   "id": "80a23c36",
   "metadata": {},
   "outputs": [],
   "source": [
    "df_RFM = df.groupby([\"Customer ID\"], as_index = False).aggregate({\"Price\": \"count\", \"Revenue\": [\"sum\",\"mean\"]})\n",
    "df_RFM"
   ]
  },
  {
   "cell_type": "code",
   "execution_count": null,
   "id": "e36f9680",
   "metadata": {},
   "outputs": [],
   "source": [
    "df_RFM[\"Total_rev\"] = df_RFM[\"Revenue\"][\"sum\"]\n",
    "df_RFM[\"Avg_rev\"] = df_RFM[\"Revenue\"][\"mean\"]\n",
    "df_RFM[\"Freq\"] = df_RFM[\"Price\"][\"count\"]"
   ]
  },
  {
   "cell_type": "code",
   "execution_count": null,
   "id": "fb0dcd06",
   "metadata": {
    "scrolled": true
   },
   "outputs": [],
   "source": [
    "df_RFM.head()"
   ]
  },
  {
   "cell_type": "code",
   "execution_count": null,
   "id": "7b1f9eda",
   "metadata": {},
   "outputs": [],
   "source": [
    "del df_RFM[\"Price\"]\n",
    "del df_RFM[\"Revenue\"]"
   ]
  },
  {
   "cell_type": "code",
   "execution_count": null,
   "id": "6173ab4d",
   "metadata": {},
   "outputs": [],
   "source": [
    "df_RFM.head()"
   ]
  },
  {
   "cell_type": "code",
   "execution_count": null,
   "id": "4e3c2f3b",
   "metadata": {},
   "outputs": [],
   "source": [
    "df_recency = df.groupby(by = \"Customer ID\", as_index = False)[\"InvoiceDate\"].max()\n",
    "df_recency.columns = [\"Customer ID\", \"LastPurchaseDate\"]\n",
    "\n",
    "df_recency[\"Recency\"] = df_recency[\"LastPurchaseDate\"].apply(lambda x: pd.to_datetime(\"2012-01-01\") - x)\n",
    "df_recency"
   ]
  },
  {
   "cell_type": "code",
   "execution_count": null,
   "id": "f36b9d87",
   "metadata": {
    "scrolled": false
   },
   "outputs": [],
   "source": [
    "#Adding the recency column in original RFM table\n",
    "df_RFM[\"Recency\"] = df_recency[\"Recency\"]\n",
    "df_RFM"
   ]
  },
  {
   "cell_type": "code",
   "execution_count": null,
   "id": "849e96b3",
   "metadata": {},
   "outputs": [],
   "source": [
    "df_RFM.shape"
   ]
  },
  {
   "cell_type": "code",
   "execution_count": null,
   "id": "7e6c93cd",
   "metadata": {},
   "outputs": [],
   "source": []
  },
  {
   "cell_type": "markdown",
   "id": "74586f49",
   "metadata": {},
   "source": [
    "#### Task 2:\n",
    "Once we have the RFM table, we will need to analyze this table further.  \n",
    "\n",
    "One of the things we can analyze is to find the vintage of customers. Find out for which ranges of recency, is the company realizing around 75% of the total revenue.  "
   ]
  },
  {
   "cell_type": "code",
   "execution_count": null,
   "id": "15e9b8ec",
   "metadata": {},
   "outputs": [],
   "source": [
    "#Creating Segmentation of customer data by finding Deciles for Recency and Frequency.\n",
    "df_RFM[\"Recency_Deciles\"] = pd.qcut(df_RFM[\"Recency\"], q=10)\n",
    "df_RFM[\"Freq_Deciles\"] = pd.qcut(df_RFM[\"Freq\"], q=10)\n",
    "df_RFM"
   ]
  },
  {
   "cell_type": "code",
   "execution_count": null,
   "id": "ca5d0417",
   "metadata": {},
   "outputs": [],
   "source": [
    "df_vintage = df_RFM.groupby(by = \"Recency_Deciles\", as_index = False)[\"Total_rev\"].sum()\n",
    "df_vintage"
   ]
  },
  {
   "cell_type": "code",
   "execution_count": null,
   "id": "97d00a29",
   "metadata": {},
   "outputs": [],
   "source": [
    "#Finding out Cumulative Sum and Total Sum of revenue and Percentage of Cumulative Sum for analysis.\n",
    "df_vintage[\"CumSum_Rev\"] = df_vintage[\"Total_rev\"].cumsum()\n",
    "df_vintage[\"Total_Rev_Across_Deciles\"] = df_vintage[\"Total_rev\"].sum()\n",
    "df_vintage[\"Perc_tot_rev\"] = df_vintage[\"CumSum_Rev\"]/df_vintage[\"Total_Rev_Across_Deciles\"]"
   ]
  },
  {
   "cell_type": "code",
   "execution_count": null,
   "id": "4f071dc0",
   "metadata": {
    "scrolled": true
   },
   "outputs": [],
   "source": [
    "#Final table for vintage of customers to identify the customers by their recency and how much revenue they bring.\n",
    "df_vintage"
   ]
  },
  {
   "cell_type": "markdown",
   "id": "b8de3fc9",
   "metadata": {},
   "source": [
    "From above we can see that the customer in recency deciles from Row Index 0-3 are bringing around 75% of total revenue."
   ]
  },
  {
   "cell_type": "code",
   "execution_count": null,
   "id": "01e9f00d",
   "metadata": {},
   "outputs": [],
   "source": [
    "recency_cust_75rev = list(df_vintage[\"Recency_Deciles\"].astype(\"str\")[0:4])\n",
    "\n",
    "#Recency Ranges of the customer who bring approx 75% of the revenue\n",
    "recency_cust_75rev"
   ]
  },
  {
   "cell_type": "code",
   "execution_count": null,
   "id": "e541d4bb",
   "metadata": {},
   "outputs": [],
   "source": []
  },
  {
   "cell_type": "markdown",
   "id": "52b9bfd2",
   "metadata": {},
   "source": [
    "#### Task 3:\n",
    "To find out within the subset of data identified above, for what ranges of frequency is ~65% of the revenue in the subset realized."
   ]
  },
  {
   "cell_type": "code",
   "execution_count": null,
   "id": "1f854455",
   "metadata": {},
   "outputs": [],
   "source": [
    "#Creating a subset of data identified above for further analysis of Frequency (The customers who generate approx 75% revenue)\n",
    "df_RFM_subset = df_RFM[(df_RFM[\"Recency\"] <= \"87 days 18:32:36.000000017\") & (df_RFM[\"Recency\"] >= \"21 days 06:40:59.999999999\")]\n",
    "df_RFM_subset.head()"
   ]
  },
  {
   "cell_type": "code",
   "execution_count": null,
   "id": "e17d000d",
   "metadata": {},
   "outputs": [],
   "source": [
    "df_RFM_subset.head()"
   ]
  },
  {
   "cell_type": "code",
   "execution_count": null,
   "id": "ddb1a070",
   "metadata": {},
   "outputs": [],
   "source": [
    "#Finding Aggregate Sum of revenue for each Frequency Decile range\n",
    "df_freq_dec = df_RFM_subset.groupby(by = \"Freq_Deciles\", as_index = False)[\"Total_rev\"].sum()\n",
    "df_freq_dec"
   ]
  },
  {
   "cell_type": "code",
   "execution_count": null,
   "id": "02e4debc",
   "metadata": {},
   "outputs": [],
   "source": [
    "#Finding out the Cumulative sum, Sum Total of revenue and percentage of CumSum revenue\n",
    "df_freq_dec[\"CumSum\"] = df_freq_dec[\"Total_rev\"].cumsum()\n",
    "df_freq_dec[\"Total\"] = df_freq_dec[\"Total_rev\"].sum()\n",
    "df_freq_dec[\"Perc_Total\"] = df_freq_dec[\"CumSum\"]/df_freq_dec[\"Total\"]"
   ]
  },
  {
   "cell_type": "code",
   "execution_count": null,
   "id": "347cf465",
   "metadata": {},
   "outputs": [],
   "source": [
    "#Final table to identify the customers by their frequency of orders who generated approx 65% of the revenue for business.\n",
    "df_freq_dec"
   ]
  },
  {
   "cell_type": "markdown",
   "id": "fd130797",
   "metadata": {},
   "source": [
    "From above we can see that the range of frequency of customers who generate ~65% of revenue fall between (319, 12780)"
   ]
  },
  {
   "cell_type": "code",
   "execution_count": null,
   "id": "bb7fd05e",
   "metadata": {},
   "outputs": [],
   "source": []
  },
  {
   "cell_type": "code",
   "execution_count": null,
   "id": "6ee2934a",
   "metadata": {},
   "outputs": [],
   "source": []
  },
  {
   "cell_type": "code",
   "execution_count": null,
   "id": "66bd2f0b",
   "metadata": {},
   "outputs": [],
   "source": []
  }
 ],
 "metadata": {
  "kernelspec": {
   "display_name": "Python 3 (ipykernel)",
   "language": "python",
   "name": "python3"
  },
  "language_info": {
   "codemirror_mode": {
    "name": "ipython",
    "version": 3
   },
   "file_extension": ".py",
   "mimetype": "text/x-python",
   "name": "python",
   "nbconvert_exporter": "python",
   "pygments_lexer": "ipython3",
   "version": "3.9.16"
  }
 },
 "nbformat": 4,
 "nbformat_minor": 5
}
