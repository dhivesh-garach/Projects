{
 "cells": [
  {
   "cell_type": "markdown",
   "id": "8644e4db",
   "metadata": {},
   "source": [
    "## Q1.The average selling price of a food item in a restaurant is Rs 250.00 and the standard deviation of the price is Rs 47.00. The median value is an indication of the central value of the data and is close to the mean of Rs 202.00. If you know these details, will you become a regular customer of the restaurant?"
   ]
  },
  {
   "cell_type": "markdown",
   "id": "0cb5eb93",
   "metadata": {},
   "source": [
    "#### ANS: \n",
    "Mean = Rs. 250.00, Median = Rs. 202.00 & STD (Standard Dev.) = Rs. 47.00\n",
    "\n",
    "Yes I will become a regular customer of this restaurant, because looking at above data the standard deviation is not high for prices of food.  And closeness of the value of Mean and Median indicates that there are no outliers (Too many expensive dishes) which might make skew average price.\n",
    "\n",
    "So it is safe to say for myself as a customer that the average price of food is upto the mark and a litte expensive dishes are also not too high in prices which make a dent on my pocket if i want to have lavish food some day.\n",
    "\n",
    "I wil definitely would like to be a regular customer because of affordability of food here."
   ]
  },
  {
   "cell_type": "markdown",
   "id": "62e37b43",
   "metadata": {},
   "source": [
    "## Q2. In a residential locality, the average size of a house is 2224 square feet with a standard deviation of 248 square feet which indicates that the distribution of size is fairly the same across the data and the median value of the house is 2220 square feet. Does the locality have bigger or smaller-sized houses?"
   ]
  },
  {
   "cell_type": "markdown",
   "id": "23f1aacb",
   "metadata": {},
   "source": [
    "#### Ans: \n",
    "\n",
    "In my opinion, locality has bigger sized houses, as the average size of house if 2224 sq ft. 2000+ sq ft houses are quite big for a 4 person family.\n",
    "\n",
    "As the mean and median value are really close to each other than it can be assumed that the size of houses  in the locality is almost similar. No house is too big or too small compared to each other. It is uniform."
   ]
  },
  {
   "cell_type": "markdown",
   "id": "81cb5482",
   "metadata": {},
   "source": [
    "## Q3. You want to invest in real estate, and you have the data belonging to locality X and Y. Some of the house prices in locality X are 2.00 L,10.00 L, 8.00 L, and 12.00 L and the prices of houses in Y are 2.5 L, 9.50 L, 8.15 L, and 12.50 L. Conduct a statistical measure to decide which locality is best for investment."
   ]
  },
  {
   "cell_type": "code",
   "execution_count": 96,
   "id": "aa80e016",
   "metadata": {
    "scrolled": true
   },
   "outputs": [
    {
     "data": {
      "text/html": [
       "<div>\n",
       "<style scoped>\n",
       "    .dataframe tbody tr th:only-of-type {\n",
       "        vertical-align: middle;\n",
       "    }\n",
       "\n",
       "    .dataframe tbody tr th {\n",
       "        vertical-align: top;\n",
       "    }\n",
       "\n",
       "    .dataframe thead th {\n",
       "        text-align: right;\n",
       "    }\n",
       "</style>\n",
       "<table border=\"1\" class=\"dataframe\">\n",
       "  <thead>\n",
       "    <tr style=\"text-align: right;\">\n",
       "      <th></th>\n",
       "      <th>Price_X</th>\n",
       "      <th>Price_Y</th>\n",
       "    </tr>\n",
       "  </thead>\n",
       "  <tbody>\n",
       "    <tr>\n",
       "      <th>count</th>\n",
       "      <td>4.000000</td>\n",
       "      <td>4.000000</td>\n",
       "    </tr>\n",
       "    <tr>\n",
       "      <th>mean</th>\n",
       "      <td>8.000000</td>\n",
       "      <td>8.162500</td>\n",
       "    </tr>\n",
       "    <tr>\n",
       "      <th>std</th>\n",
       "      <td>4.320494</td>\n",
       "      <td>4.189943</td>\n",
       "    </tr>\n",
       "    <tr>\n",
       "      <th>min</th>\n",
       "      <td>2.000000</td>\n",
       "      <td>2.500000</td>\n",
       "    </tr>\n",
       "    <tr>\n",
       "      <th>25%</th>\n",
       "      <td>6.500000</td>\n",
       "      <td>6.737500</td>\n",
       "    </tr>\n",
       "    <tr>\n",
       "      <th>50%</th>\n",
       "      <td>9.000000</td>\n",
       "      <td>8.825000</td>\n",
       "    </tr>\n",
       "    <tr>\n",
       "      <th>75%</th>\n",
       "      <td>10.500000</td>\n",
       "      <td>10.250000</td>\n",
       "    </tr>\n",
       "    <tr>\n",
       "      <th>max</th>\n",
       "      <td>12.000000</td>\n",
       "      <td>12.500000</td>\n",
       "    </tr>\n",
       "  </tbody>\n",
       "</table>\n",
       "</div>"
      ],
      "text/plain": [
       "         Price_X    Price_Y\n",
       "count   4.000000   4.000000\n",
       "mean    8.000000   8.162500\n",
       "std     4.320494   4.189943\n",
       "min     2.000000   2.500000\n",
       "25%     6.500000   6.737500\n",
       "50%     9.000000   8.825000\n",
       "75%    10.500000  10.250000\n",
       "max    12.000000  12.500000"
      ]
     },
     "execution_count": 96,
     "metadata": {},
     "output_type": "execute_result"
    }
   ],
   "source": [
    "#ANS: In my opinion \"X\" locality is best for the investment because if an investor is capable of buying high price real estate \n",
    "# then in X locality he can get it at 12 Lakh instead of 12.50 Lakh in Y locality where he saves 50k. And even if he wants to \n",
    "# go and buy multiple cheap houses then again in X Locality he can get a 2 Lakh house instead of 2.50 Lakh starting point in \n",
    "# Y locality.\n",
    "\n",
    "import pandas as pd\n",
    "\n",
    "d = {\"Price_X\" : [2.00,10.00,8.00,12.00], \"Price_Y\" : [2.5,9.50,8.15,12.50]}\n",
    "df = pd.DataFrame(data = d)\n",
    "df.describe()"
   ]
  },
  {
   "cell_type": "code",
   "execution_count": 97,
   "id": "75b1e95d",
   "metadata": {},
   "outputs": [
    {
     "data": {
      "text/plain": [
       "Price_X    9.000\n",
       "Price_Y    8.825\n",
       "dtype: float64"
      ]
     },
     "execution_count": 97,
     "metadata": {},
     "output_type": "execute_result"
    }
   ],
   "source": [
    "df[[\"Price_X\", \"Price_Y\"]].median()"
   ]
  },
  {
   "cell_type": "markdown",
   "id": "b822fc58",
   "metadata": {},
   "source": [
    "## Q4. During a survey, the ages of 80 patients, infected by COVID and admitted to one of the city hospitals, were recorded. The collected data is represented in the less-than-cumulative frequency distribution table. Read the questions below the table and provide your answers.\n",
    "\n",
    "#### a. Which class interval has the highest frequency?\n",
    "#### b. Which age was affected the least?\n",
    "#### c. How many patients of age 45 years and above were admitted?\n",
    "#### d. Which is the modal class interval in the above dataset?\n",
    "#### e. What is the median class interval of age?"
   ]
  },
  {
   "cell_type": "code",
   "execution_count": 98,
   "id": "2cfe7e0c",
   "metadata": {
    "scrolled": true
   },
   "outputs": [
    {
     "data": {
      "text/html": [
       "<div>\n",
       "<style scoped>\n",
       "    .dataframe tbody tr th:only-of-type {\n",
       "        vertical-align: middle;\n",
       "    }\n",
       "\n",
       "    .dataframe tbody tr th {\n",
       "        vertical-align: top;\n",
       "    }\n",
       "\n",
       "    .dataframe thead th {\n",
       "        text-align: right;\n",
       "    }\n",
       "</style>\n",
       "<table border=\"1\" class=\"dataframe\">\n",
       "  <thead>\n",
       "    <tr style=\"text-align: right;\">\n",
       "      <th></th>\n",
       "      <th>Age (in yrs.)</th>\n",
       "      <th>No. of Patients</th>\n",
       "      <th>Cumulative Frequency</th>\n",
       "    </tr>\n",
       "  </thead>\n",
       "  <tbody>\n",
       "    <tr>\n",
       "      <th>0</th>\n",
       "      <td>5 - 15</td>\n",
       "      <td>6</td>\n",
       "      <td>6</td>\n",
       "    </tr>\n",
       "    <tr>\n",
       "      <th>1</th>\n",
       "      <td>15 - 25</td>\n",
       "      <td>11</td>\n",
       "      <td>17</td>\n",
       "    </tr>\n",
       "    <tr>\n",
       "      <th>2</th>\n",
       "      <td>25 - 35</td>\n",
       "      <td>21</td>\n",
       "      <td>38</td>\n",
       "    </tr>\n",
       "    <tr>\n",
       "      <th>3</th>\n",
       "      <td>35 - 45</td>\n",
       "      <td>23</td>\n",
       "      <td>61</td>\n",
       "    </tr>\n",
       "    <tr>\n",
       "      <th>4</th>\n",
       "      <td>45 - 55</td>\n",
       "      <td>14</td>\n",
       "      <td>75</td>\n",
       "    </tr>\n",
       "    <tr>\n",
       "      <th>5</th>\n",
       "      <td>55 - 65</td>\n",
       "      <td>5</td>\n",
       "      <td>80</td>\n",
       "    </tr>\n",
       "  </tbody>\n",
       "</table>\n",
       "</div>"
      ],
      "text/plain": [
       "  Age (in yrs.)  No. of Patients  Cumulative Frequency\n",
       "0        5 - 15                6                     6\n",
       "1       15 - 25               11                    17\n",
       "2       25 - 35               21                    38\n",
       "3       35 - 45               23                    61\n",
       "4       45 - 55               14                    75\n",
       "5       55 - 65                5                    80"
      ]
     },
     "execution_count": 98,
     "metadata": {},
     "output_type": "execute_result"
    }
   ],
   "source": [
    "df1 = pd.DataFrame(data = {\"Age (in yrs.)\" : [\"5 - 15\", \"15 - 25\", \"25 - 35\", \"35 - 45\",\"45 - 55\", \"55 - 65\"], \n",
    "                           \"No. of Patients\" : [6,11,21,23,14,5],\n",
    "                          \"Cumulative Frequency\" : [6,17,38,61,75,80]}\n",
    "                  )\n",
    "df1"
   ]
  },
  {
   "cell_type": "code",
   "execution_count": 99,
   "id": "706f6c54",
   "metadata": {},
   "outputs": [
    {
     "name": "stdout",
     "output_type": "stream",
     "text": [
      "Sum of Frequency of Patients = 80\n",
      "Median item = 40.0\n"
     ]
    }
   ],
   "source": [
    "print(\"Sum of Frequency of Patients =\", 6+11+21+23+14+5)\n",
    "median_item = 80/2 #(Sum of Frequency/2)\n",
    "print(\"Median item =\",median_item)\n"
   ]
  },
  {
   "cell_type": "code",
   "execution_count": 100,
   "id": "4a9e8b65",
   "metadata": {},
   "outputs": [],
   "source": [
    "#ANS:\n",
    "# a.) Class interval \"35-45\" years of age has the highest frequency.\n",
    "# b.) Age 55-65 were affected the least.\n",
    "# c.) 14 + 5 = 19, 19 patients were admitted of age 45 and above.\n",
    "# d.) Modal class interval is \"35-45\" because it has the highest frequency.\n",
    "# e.) Median class interval of age is \"35-45\". Explaination below.\n",
    "\n",
    "# To find the median class interval of age,\n",
    "#Now we will find the value in Cumulative frequency column equal to or next greater value to Median item which 40.0.\n",
    "#So the value closer to 40 is 61 which corresponds to disctibution \"35-45\"."
   ]
  },
  {
   "cell_type": "markdown",
   "id": "fd7f559e",
   "metadata": {},
   "source": [
    "## 5. Assume, you are a trader and have invested over the years for your retirement. Lately, with the fluctuating economical condition, you are worried about the average return on investment. What average method is appropriate to compute the average return for the data given in the table?"
   ]
  },
  {
   "cell_type": "markdown",
   "id": "533ba53a",
   "metadata": {},
   "source": [
    "#### ANS: \n",
    "\"Geometric mean\" Method is the best approach to solve the problem. I will use the Cumulative Average on Returns to find out the actual return rate over the years. This is also called as CAGR (Cumulative Annual Growth Rate)"
   ]
  },
  {
   "cell_type": "markdown",
   "id": "f64a6b65",
   "metadata": {},
   "source": [
    "## 6. Suppose you have been told to measure the height of all men on the earth. What strategy would you use?"
   ]
  },
  {
   "cell_type": "markdown",
   "id": "2ff4c6d6",
   "metadata": {},
   "source": [
    "#### ANS:\n",
    "I will take a sample size of men of all countries and make a column of it. Then i will compute the mean on the column to find out the avergae height of men on earth."
   ]
  },
  {
   "cell_type": "markdown",
   "id": "18b3e0a3",
   "metadata": {},
   "source": [
    "## 7. Calculate the z score of the following numbers:\n",
    "### X = [4.5,6.2,7.3,9.1,10.4,11]"
   ]
  },
  {
   "cell_type": "code",
   "execution_count": 101,
   "id": "85e501b2",
   "metadata": {},
   "outputs": [
    {
     "name": "stdout",
     "output_type": "stream",
     "text": [
      "Mean of X is 8.08\n",
      "Standard Deviation is 2.31\n",
      "Z Score of 4.5 is -1.553856019598407\n",
      "Z Score of 6.2 is -0.816677814951721\n",
      "Z Score of 7.3 is -0.3396801531215125\n",
      "Z Score of 9.1 is 0.44086147532791964\n",
      "Z Score of 10.4 is 1.004585984763621\n",
      "Z Score of 11 is 1.2647665275800983\n"
     ]
    }
   ],
   "source": [
    "#ANS:\n",
    "import numpy as np\n",
    "x = [4.5,6.2,7.3,9.1,10.4,11]\n",
    "mean_x = np.average(x)\n",
    "std_x = np.std(x)\n",
    "\n",
    "#Z Score of a value/item can be found by Fourmula Value - Mean divided by Standard Deviation\n",
    "z_scr_0 = (x[0] - mean_x)/std_x\n",
    "z_scr_1 = (x[1] - mean_x)/std_x\n",
    "z_scr_2 = (x[2] - mean_x)/std_x\n",
    "z_scr_3 = (x[3] - mean_x)/std_x\n",
    "z_scr_4 = (x[4] - mean_x)/std_x\n",
    "z_scr_5 = (x[5] - mean_x)/std_x\n",
    "\n",
    "print(\"Mean of X is\", round(mean_x, 2))\n",
    "print(\"Standard Deviation is\", round(std_x, 2))\n",
    "\n",
    "print(\"Z Score of 4.5 is\", z_scr_0)\n",
    "print(\"Z Score of 6.2 is\", z_scr_1)\n",
    "print(\"Z Score of 7.3 is\", z_scr_2)\n",
    "print(\"Z Score of 9.1 is\", z_scr_3)\n",
    "print(\"Z Score of 10.4 is\", z_scr_4)\n",
    "print(\"Z Score of 11 is\", z_scr_5)\n"
   ]
  },
  {
   "cell_type": "markdown",
   "id": "b69dbfd0",
   "metadata": {},
   "source": [
    "# Solutions for Q8 - Q20 (Using Bank Loan Data)"
   ]
  },
  {
   "cell_type": "code",
   "execution_count": 182,
   "id": "a04a1171",
   "metadata": {},
   "outputs": [
    {
     "name": "stderr",
     "output_type": "stream",
     "text": [
      "C:\\Users\\dhiveshg\\Anaconda3\\lib\\site-packages\\openpyxl\\worksheet\\_reader.py:312: UserWarning: Unknown extension is not supported and will be removed\n",
      "  warn(msg)\n"
     ]
    },
    {
     "data": {
      "text/html": [
       "<div>\n",
       "<style scoped>\n",
       "    .dataframe tbody tr th:only-of-type {\n",
       "        vertical-align: middle;\n",
       "    }\n",
       "\n",
       "    .dataframe tbody tr th {\n",
       "        vertical-align: top;\n",
       "    }\n",
       "\n",
       "    .dataframe thead th {\n",
       "        text-align: right;\n",
       "    }\n",
       "</style>\n",
       "<table border=\"1\" class=\"dataframe\">\n",
       "  <thead>\n",
       "    <tr style=\"text-align: right;\">\n",
       "      <th></th>\n",
       "      <th>ID</th>\n",
       "      <th>Age</th>\n",
       "      <th>Experience</th>\n",
       "      <th>Income</th>\n",
       "      <th>ZIP Code</th>\n",
       "      <th>Family</th>\n",
       "      <th>CCAvg</th>\n",
       "      <th>Education</th>\n",
       "      <th>Mortgage</th>\n",
       "      <th>Personal Loan</th>\n",
       "      <th>Securities Account</th>\n",
       "      <th>CD Account</th>\n",
       "      <th>Online</th>\n",
       "      <th>CreditCard</th>\n",
       "    </tr>\n",
       "  </thead>\n",
       "  <tbody>\n",
       "    <tr>\n",
       "      <th>0</th>\n",
       "      <td>1</td>\n",
       "      <td>25</td>\n",
       "      <td>1</td>\n",
       "      <td>49</td>\n",
       "      <td>91107</td>\n",
       "      <td>4</td>\n",
       "      <td>1.6</td>\n",
       "      <td>1</td>\n",
       "      <td>0</td>\n",
       "      <td>0</td>\n",
       "      <td>1</td>\n",
       "      <td>0</td>\n",
       "      <td>0</td>\n",
       "      <td>0</td>\n",
       "    </tr>\n",
       "    <tr>\n",
       "      <th>1</th>\n",
       "      <td>2</td>\n",
       "      <td>45</td>\n",
       "      <td>19</td>\n",
       "      <td>34</td>\n",
       "      <td>90089</td>\n",
       "      <td>3</td>\n",
       "      <td>1.5</td>\n",
       "      <td>1</td>\n",
       "      <td>0</td>\n",
       "      <td>0</td>\n",
       "      <td>1</td>\n",
       "      <td>0</td>\n",
       "      <td>0</td>\n",
       "      <td>0</td>\n",
       "    </tr>\n",
       "    <tr>\n",
       "      <th>2</th>\n",
       "      <td>3</td>\n",
       "      <td>39</td>\n",
       "      <td>15</td>\n",
       "      <td>11</td>\n",
       "      <td>94720</td>\n",
       "      <td>1</td>\n",
       "      <td>1.0</td>\n",
       "      <td>1</td>\n",
       "      <td>0</td>\n",
       "      <td>0</td>\n",
       "      <td>0</td>\n",
       "      <td>0</td>\n",
       "      <td>0</td>\n",
       "      <td>0</td>\n",
       "    </tr>\n",
       "    <tr>\n",
       "      <th>3</th>\n",
       "      <td>4</td>\n",
       "      <td>35</td>\n",
       "      <td>9</td>\n",
       "      <td>100</td>\n",
       "      <td>94112</td>\n",
       "      <td>1</td>\n",
       "      <td>2.7</td>\n",
       "      <td>2</td>\n",
       "      <td>0</td>\n",
       "      <td>0</td>\n",
       "      <td>0</td>\n",
       "      <td>0</td>\n",
       "      <td>0</td>\n",
       "      <td>0</td>\n",
       "    </tr>\n",
       "    <tr>\n",
       "      <th>4</th>\n",
       "      <td>5</td>\n",
       "      <td>35</td>\n",
       "      <td>8</td>\n",
       "      <td>45</td>\n",
       "      <td>91330</td>\n",
       "      <td>4</td>\n",
       "      <td>1.0</td>\n",
       "      <td>2</td>\n",
       "      <td>0</td>\n",
       "      <td>0</td>\n",
       "      <td>0</td>\n",
       "      <td>0</td>\n",
       "      <td>0</td>\n",
       "      <td>1</td>\n",
       "    </tr>\n",
       "    <tr>\n",
       "      <th>...</th>\n",
       "      <td>...</td>\n",
       "      <td>...</td>\n",
       "      <td>...</td>\n",
       "      <td>...</td>\n",
       "      <td>...</td>\n",
       "      <td>...</td>\n",
       "      <td>...</td>\n",
       "      <td>...</td>\n",
       "      <td>...</td>\n",
       "      <td>...</td>\n",
       "      <td>...</td>\n",
       "      <td>...</td>\n",
       "      <td>...</td>\n",
       "      <td>...</td>\n",
       "    </tr>\n",
       "    <tr>\n",
       "      <th>4995</th>\n",
       "      <td>4996</td>\n",
       "      <td>29</td>\n",
       "      <td>3</td>\n",
       "      <td>40</td>\n",
       "      <td>92697</td>\n",
       "      <td>1</td>\n",
       "      <td>1.9</td>\n",
       "      <td>3</td>\n",
       "      <td>0</td>\n",
       "      <td>0</td>\n",
       "      <td>0</td>\n",
       "      <td>0</td>\n",
       "      <td>1</td>\n",
       "      <td>0</td>\n",
       "    </tr>\n",
       "    <tr>\n",
       "      <th>4996</th>\n",
       "      <td>4997</td>\n",
       "      <td>30</td>\n",
       "      <td>4</td>\n",
       "      <td>15</td>\n",
       "      <td>92037</td>\n",
       "      <td>4</td>\n",
       "      <td>0.4</td>\n",
       "      <td>1</td>\n",
       "      <td>85</td>\n",
       "      <td>0</td>\n",
       "      <td>0</td>\n",
       "      <td>0</td>\n",
       "      <td>1</td>\n",
       "      <td>0</td>\n",
       "    </tr>\n",
       "    <tr>\n",
       "      <th>4997</th>\n",
       "      <td>4998</td>\n",
       "      <td>63</td>\n",
       "      <td>39</td>\n",
       "      <td>24</td>\n",
       "      <td>93023</td>\n",
       "      <td>2</td>\n",
       "      <td>0.3</td>\n",
       "      <td>3</td>\n",
       "      <td>0</td>\n",
       "      <td>0</td>\n",
       "      <td>0</td>\n",
       "      <td>0</td>\n",
       "      <td>0</td>\n",
       "      <td>0</td>\n",
       "    </tr>\n",
       "    <tr>\n",
       "      <th>4998</th>\n",
       "      <td>4999</td>\n",
       "      <td>65</td>\n",
       "      <td>40</td>\n",
       "      <td>49</td>\n",
       "      <td>90034</td>\n",
       "      <td>3</td>\n",
       "      <td>0.5</td>\n",
       "      <td>2</td>\n",
       "      <td>0</td>\n",
       "      <td>0</td>\n",
       "      <td>0</td>\n",
       "      <td>0</td>\n",
       "      <td>1</td>\n",
       "      <td>0</td>\n",
       "    </tr>\n",
       "    <tr>\n",
       "      <th>4999</th>\n",
       "      <td>5000</td>\n",
       "      <td>28</td>\n",
       "      <td>4</td>\n",
       "      <td>83</td>\n",
       "      <td>92612</td>\n",
       "      <td>3</td>\n",
       "      <td>0.8</td>\n",
       "      <td>1</td>\n",
       "      <td>0</td>\n",
       "      <td>0</td>\n",
       "      <td>0</td>\n",
       "      <td>0</td>\n",
       "      <td>1</td>\n",
       "      <td>1</td>\n",
       "    </tr>\n",
       "  </tbody>\n",
       "</table>\n",
       "<p>5000 rows × 14 columns</p>\n",
       "</div>"
      ],
      "text/plain": [
       "        ID  Age  Experience  Income  ZIP Code  Family  CCAvg  Education  \\\n",
       "0        1   25           1      49     91107       4    1.6          1   \n",
       "1        2   45          19      34     90089       3    1.5          1   \n",
       "2        3   39          15      11     94720       1    1.0          1   \n",
       "3        4   35           9     100     94112       1    2.7          2   \n",
       "4        5   35           8      45     91330       4    1.0          2   \n",
       "...    ...  ...         ...     ...       ...     ...    ...        ...   \n",
       "4995  4996   29           3      40     92697       1    1.9          3   \n",
       "4996  4997   30           4      15     92037       4    0.4          1   \n",
       "4997  4998   63          39      24     93023       2    0.3          3   \n",
       "4998  4999   65          40      49     90034       3    0.5          2   \n",
       "4999  5000   28           4      83     92612       3    0.8          1   \n",
       "\n",
       "      Mortgage  Personal Loan  Securities Account  CD Account  Online  \\\n",
       "0            0              0                   1           0       0   \n",
       "1            0              0                   1           0       0   \n",
       "2            0              0                   0           0       0   \n",
       "3            0              0                   0           0       0   \n",
       "4            0              0                   0           0       0   \n",
       "...        ...            ...                 ...         ...     ...   \n",
       "4995         0              0                   0           0       1   \n",
       "4996        85              0                   0           0       1   \n",
       "4997         0              0                   0           0       0   \n",
       "4998         0              0                   0           0       1   \n",
       "4999         0              0                   0           0       1   \n",
       "\n",
       "      CreditCard  \n",
       "0              0  \n",
       "1              0  \n",
       "2              0  \n",
       "3              0  \n",
       "4              1  \n",
       "...          ...  \n",
       "4995           0  \n",
       "4996           0  \n",
       "4997           0  \n",
       "4998           0  \n",
       "4999           1  \n",
       "\n",
       "[5000 rows x 14 columns]"
      ]
     },
     "execution_count": 182,
     "metadata": {},
     "output_type": "execute_result"
    }
   ],
   "source": [
    "bank_df = pd.read_excel(\"C:/Dhivesh_Personal/ABADS Course Files/WEEK 8 - Performing Descriptive Statistics with Python/Graded Assessment/Bank Personal Loan Modelling.xlsx\", sheet_name = \"Data\")\n",
    "bank_df"
   ]
  },
  {
   "cell_type": "markdown",
   "id": "9ab2e226",
   "metadata": {},
   "source": [
    "## Q8. Give the statistical summary for all the variables in the dataset."
   ]
  },
  {
   "cell_type": "code",
   "execution_count": 103,
   "id": "b1c98a42",
   "metadata": {},
   "outputs": [
    {
     "data": {
      "text/html": [
       "<div>\n",
       "<style scoped>\n",
       "    .dataframe tbody tr th:only-of-type {\n",
       "        vertical-align: middle;\n",
       "    }\n",
       "\n",
       "    .dataframe tbody tr th {\n",
       "        vertical-align: top;\n",
       "    }\n",
       "\n",
       "    .dataframe thead th {\n",
       "        text-align: right;\n",
       "    }\n",
       "</style>\n",
       "<table border=\"1\" class=\"dataframe\">\n",
       "  <thead>\n",
       "    <tr style=\"text-align: right;\">\n",
       "      <th></th>\n",
       "      <th>count</th>\n",
       "      <th>mean</th>\n",
       "      <th>std</th>\n",
       "      <th>min</th>\n",
       "      <th>25%</th>\n",
       "      <th>50%</th>\n",
       "      <th>75%</th>\n",
       "      <th>max</th>\n",
       "    </tr>\n",
       "  </thead>\n",
       "  <tbody>\n",
       "    <tr>\n",
       "      <th>ID</th>\n",
       "      <td>5000.0</td>\n",
       "      <td>2500.500000</td>\n",
       "      <td>1443.520003</td>\n",
       "      <td>1.0</td>\n",
       "      <td>1250.75</td>\n",
       "      <td>2500.5</td>\n",
       "      <td>3750.25</td>\n",
       "      <td>5000.0</td>\n",
       "    </tr>\n",
       "    <tr>\n",
       "      <th>Age</th>\n",
       "      <td>5000.0</td>\n",
       "      <td>45.338400</td>\n",
       "      <td>11.463166</td>\n",
       "      <td>23.0</td>\n",
       "      <td>35.00</td>\n",
       "      <td>45.0</td>\n",
       "      <td>55.00</td>\n",
       "      <td>67.0</td>\n",
       "    </tr>\n",
       "    <tr>\n",
       "      <th>Experience</th>\n",
       "      <td>5000.0</td>\n",
       "      <td>20.104600</td>\n",
       "      <td>11.467954</td>\n",
       "      <td>-3.0</td>\n",
       "      <td>10.00</td>\n",
       "      <td>20.0</td>\n",
       "      <td>30.00</td>\n",
       "      <td>43.0</td>\n",
       "    </tr>\n",
       "    <tr>\n",
       "      <th>Income</th>\n",
       "      <td>5000.0</td>\n",
       "      <td>73.774200</td>\n",
       "      <td>46.033729</td>\n",
       "      <td>8.0</td>\n",
       "      <td>39.00</td>\n",
       "      <td>64.0</td>\n",
       "      <td>98.00</td>\n",
       "      <td>224.0</td>\n",
       "    </tr>\n",
       "    <tr>\n",
       "      <th>ZIP Code</th>\n",
       "      <td>5000.0</td>\n",
       "      <td>93152.503000</td>\n",
       "      <td>2121.852197</td>\n",
       "      <td>9307.0</td>\n",
       "      <td>91911.00</td>\n",
       "      <td>93437.0</td>\n",
       "      <td>94608.00</td>\n",
       "      <td>96651.0</td>\n",
       "    </tr>\n",
       "    <tr>\n",
       "      <th>Family</th>\n",
       "      <td>5000.0</td>\n",
       "      <td>2.396400</td>\n",
       "      <td>1.147663</td>\n",
       "      <td>1.0</td>\n",
       "      <td>1.00</td>\n",
       "      <td>2.0</td>\n",
       "      <td>3.00</td>\n",
       "      <td>4.0</td>\n",
       "    </tr>\n",
       "    <tr>\n",
       "      <th>CCAvg</th>\n",
       "      <td>5000.0</td>\n",
       "      <td>1.937913</td>\n",
       "      <td>1.747666</td>\n",
       "      <td>0.0</td>\n",
       "      <td>0.70</td>\n",
       "      <td>1.5</td>\n",
       "      <td>2.50</td>\n",
       "      <td>10.0</td>\n",
       "    </tr>\n",
       "    <tr>\n",
       "      <th>Education</th>\n",
       "      <td>5000.0</td>\n",
       "      <td>1.881000</td>\n",
       "      <td>0.839869</td>\n",
       "      <td>1.0</td>\n",
       "      <td>1.00</td>\n",
       "      <td>2.0</td>\n",
       "      <td>3.00</td>\n",
       "      <td>3.0</td>\n",
       "    </tr>\n",
       "    <tr>\n",
       "      <th>Mortgage</th>\n",
       "      <td>5000.0</td>\n",
       "      <td>56.498800</td>\n",
       "      <td>101.713802</td>\n",
       "      <td>0.0</td>\n",
       "      <td>0.00</td>\n",
       "      <td>0.0</td>\n",
       "      <td>101.00</td>\n",
       "      <td>635.0</td>\n",
       "    </tr>\n",
       "    <tr>\n",
       "      <th>Personal Loan</th>\n",
       "      <td>5000.0</td>\n",
       "      <td>0.096000</td>\n",
       "      <td>0.294621</td>\n",
       "      <td>0.0</td>\n",
       "      <td>0.00</td>\n",
       "      <td>0.0</td>\n",
       "      <td>0.00</td>\n",
       "      <td>1.0</td>\n",
       "    </tr>\n",
       "    <tr>\n",
       "      <th>Securities Account</th>\n",
       "      <td>5000.0</td>\n",
       "      <td>0.104400</td>\n",
       "      <td>0.305809</td>\n",
       "      <td>0.0</td>\n",
       "      <td>0.00</td>\n",
       "      <td>0.0</td>\n",
       "      <td>0.00</td>\n",
       "      <td>1.0</td>\n",
       "    </tr>\n",
       "    <tr>\n",
       "      <th>CD Account</th>\n",
       "      <td>5000.0</td>\n",
       "      <td>0.060400</td>\n",
       "      <td>0.238250</td>\n",
       "      <td>0.0</td>\n",
       "      <td>0.00</td>\n",
       "      <td>0.0</td>\n",
       "      <td>0.00</td>\n",
       "      <td>1.0</td>\n",
       "    </tr>\n",
       "    <tr>\n",
       "      <th>Online</th>\n",
       "      <td>5000.0</td>\n",
       "      <td>0.596800</td>\n",
       "      <td>0.490589</td>\n",
       "      <td>0.0</td>\n",
       "      <td>0.00</td>\n",
       "      <td>1.0</td>\n",
       "      <td>1.00</td>\n",
       "      <td>1.0</td>\n",
       "    </tr>\n",
       "    <tr>\n",
       "      <th>CreditCard</th>\n",
       "      <td>5000.0</td>\n",
       "      <td>0.294000</td>\n",
       "      <td>0.455637</td>\n",
       "      <td>0.0</td>\n",
       "      <td>0.00</td>\n",
       "      <td>0.0</td>\n",
       "      <td>1.00</td>\n",
       "      <td>1.0</td>\n",
       "    </tr>\n",
       "  </tbody>\n",
       "</table>\n",
       "</div>"
      ],
      "text/plain": [
       "                     count          mean          std     min       25%  \\\n",
       "ID                  5000.0   2500.500000  1443.520003     1.0   1250.75   \n",
       "Age                 5000.0     45.338400    11.463166    23.0     35.00   \n",
       "Experience          5000.0     20.104600    11.467954    -3.0     10.00   \n",
       "Income              5000.0     73.774200    46.033729     8.0     39.00   \n",
       "ZIP Code            5000.0  93152.503000  2121.852197  9307.0  91911.00   \n",
       "Family              5000.0      2.396400     1.147663     1.0      1.00   \n",
       "CCAvg               5000.0      1.937913     1.747666     0.0      0.70   \n",
       "Education           5000.0      1.881000     0.839869     1.0      1.00   \n",
       "Mortgage            5000.0     56.498800   101.713802     0.0      0.00   \n",
       "Personal Loan       5000.0      0.096000     0.294621     0.0      0.00   \n",
       "Securities Account  5000.0      0.104400     0.305809     0.0      0.00   \n",
       "CD Account          5000.0      0.060400     0.238250     0.0      0.00   \n",
       "Online              5000.0      0.596800     0.490589     0.0      0.00   \n",
       "CreditCard          5000.0      0.294000     0.455637     0.0      0.00   \n",
       "\n",
       "                        50%       75%      max  \n",
       "ID                   2500.5   3750.25   5000.0  \n",
       "Age                    45.0     55.00     67.0  \n",
       "Experience             20.0     30.00     43.0  \n",
       "Income                 64.0     98.00    224.0  \n",
       "ZIP Code            93437.0  94608.00  96651.0  \n",
       "Family                  2.0      3.00      4.0  \n",
       "CCAvg                   1.5      2.50     10.0  \n",
       "Education               2.0      3.00      3.0  \n",
       "Mortgage                0.0    101.00    635.0  \n",
       "Personal Loan           0.0      0.00      1.0  \n",
       "Securities Account      0.0      0.00      1.0  \n",
       "CD Account              0.0      0.00      1.0  \n",
       "Online                  1.0      1.00      1.0  \n",
       "CreditCard              0.0      1.00      1.0  "
      ]
     },
     "execution_count": 103,
     "metadata": {},
     "output_type": "execute_result"
    }
   ],
   "source": [
    "#ANS:\n",
    "bank_df.describe().T"
   ]
  },
  {
   "cell_type": "markdown",
   "id": "a09eeee8",
   "metadata": {},
   "source": [
    "## Q.9. Give all the measures of central tendency for all the quantitative variables which are continuous and discrete."
   ]
  },
  {
   "cell_type": "code",
   "execution_count": 104,
   "id": "16086d9f",
   "metadata": {},
   "outputs": [
    {
     "name": "stdout",
     "output_type": "stream",
     "text": [
      "Mean of Continous and Discrete Variables: \n",
      " Age           45.338400\n",
      "Experience    20.104600\n",
      "Income        73.774200\n",
      "Family         2.396400\n",
      "CCAvg          1.937913\n",
      "Mortgage      56.498800\n",
      "dtype: float64\n",
      "\n",
      "Median of Continous and Discrete Variables: \n",
      " Age           45.0\n",
      "Experience    20.0\n",
      "Income        64.0\n",
      "Family         2.0\n",
      "CCAvg          1.5\n",
      "Mortgage       0.0\n",
      "dtype: float64\n",
      "\n",
      "Mode of Continous and Discrete Variables \n",
      "    Age  Experience  Income  Family  CCAvg  Mortgage\n",
      "0   35          32      44       1    0.3         0\n"
     ]
    }
   ],
   "source": [
    "#ANS: There are 3 measureso of Central Tendency namely Mean, Median and Mode.\n",
    "\n",
    "#Mean of Continous and Discrete Variables\n",
    "print(\"Mean of Continous and Discrete Variables:\",\"\\n\",bank_df[[\"Age\", \"Experience\",\"Income\", \"Family\", \"CCAvg\", \"Mortgage\"]].mean())\n",
    "print(\"\")\n",
    "\n",
    "#Median of Continous and Discrete Variables\n",
    "print(\"Median of Continous and Discrete Variables:\",\"\\n\",bank_df[[\"Age\", \"Experience\",\"Income\", \"Family\", \"CCAvg\", \"Mortgage\"]].median())\n",
    "print(\"\")\n",
    "\n",
    "#Mode of Continous and Discrete Variables\n",
    "print(\"Mode of Continous and Discrete Variables\",\"\\n\",bank_df[[\"Age\", \"Experience\",\"Income\", \"Family\", \"CCAvg\", \"Mortgage\"]].mode())"
   ]
  },
  {
   "cell_type": "markdown",
   "id": "2737874f",
   "metadata": {},
   "source": [
    "## Q10. Can you apply any statistical method to observe any similarity in distribution between age and experience variables?"
   ]
  },
  {
   "cell_type": "markdown",
   "id": "ad4e9e14",
   "metadata": {},
   "source": [
    "#### ANS:\n",
    "Weighted Mean of Central tendency could be applied to observe the exerience level of certain age groups. I will try to apply that and check the comparision of 2 variables on each other."
   ]
  },
  {
   "cell_type": "markdown",
   "id": "b1933ee5",
   "metadata": {},
   "source": [
    "## Q11. Who are the most frequent family members present in this dataset?\n"
   ]
  },
  {
   "cell_type": "code",
   "execution_count": 105,
   "id": "58f81c76",
   "metadata": {},
   "outputs": [
    {
     "data": {
      "text/plain": [
       "0    1\n",
       "Name: Family, dtype: int64"
      ]
     },
     "execution_count": 105,
     "metadata": {},
     "output_type": "execute_result"
    }
   ],
   "source": [
    "#ANS: \"1\" Number of family members are most occuring in this data sheet. \n",
    "# We will find the Mode of \"Family\" column in the data.\n",
    "\n",
    "bank_df[\"Family\"].mode()"
   ]
  },
  {
   "cell_type": "code",
   "execution_count": 106,
   "id": "36ca2d5d",
   "metadata": {},
   "outputs": [
    {
     "name": "stdout",
     "output_type": "stream",
     "text": [
      "1    1472\n",
      "2    1296\n",
      "4    1222\n",
      "3    1010\n",
      "Name: Family, dtype: int64\n"
     ]
    }
   ],
   "source": [
    "# Value counts function also verifies that 1 family member is most occuring with 1472 times.\n",
    "print(bank_df[\"Family\"].value_counts())"
   ]
  },
  {
   "cell_type": "markdown",
   "id": "e60628b5",
   "metadata": {},
   "source": [
    "## Q12. What is the coefficient of variation you can observe in the ‘Income’ variable?"
   ]
  },
  {
   "cell_type": "code",
   "execution_count": 122,
   "id": "df6b0b96",
   "metadata": {},
   "outputs": [
    {
     "name": "stdout",
     "output_type": "stream",
     "text": [
      "Coefficient of Variation 'Income' variable is  62.39814097758612\n"
     ]
    }
   ],
   "source": [
    "#ANS: Coefficient of Variation = (Standard Deviation/Mean) x 100\n",
    "cov_income = (std_income/mean_income) * 100\n",
    "std_income = bank_df[\"Income\"].std()\n",
    "mean_income = bank_df[\"Income\"].mean()\n",
    "\n",
    "print(\"Coefficient of Variation 'Income' variable is \",cov_income)"
   ]
  },
  {
   "cell_type": "markdown",
   "id": "c8f823fd",
   "metadata": {},
   "source": [
    "## Q13. The ‘Mortgage’ variable is having a lot of zeroes. Impute with some business logical value that you feel fit for the data."
   ]
  },
  {
   "cell_type": "code",
   "execution_count": 125,
   "id": "45ac4110",
   "metadata": {},
   "outputs": [
    {
     "data": {
      "text/plain": [
       "56.4988"
      ]
     },
     "execution_count": 125,
     "metadata": {},
     "output_type": "execute_result"
    }
   ],
   "source": [
    "# Mortgage is a quantitative variable, and discrete in nature. We can impute the null values by either Mean or Median Value.\n",
    "\n",
    "# Mean value of Mortgage variable. \n",
    "bank_df[\"Mortgage\"].mean()"
   ]
  },
  {
   "cell_type": "code",
   "execution_count": 127,
   "id": "6fdb0a72",
   "metadata": {},
   "outputs": [
    {
     "name": "stdout",
     "output_type": "stream",
     "text": [
      "56\n"
     ]
    }
   ],
   "source": [
    "# We can round mean value off and impute all the zeros in the column with 56.00.\n",
    "# We can use fillna function on data series to do it.\n",
    "\n",
    "print(round(56.498))"
   ]
  },
  {
   "cell_type": "markdown",
   "id": "8d3eedf5",
   "metadata": {},
   "source": [
    "## Q14. Do customers with credit cards have any impact on their experience and income?"
   ]
  },
  {
   "cell_type": "markdown",
   "id": "d018a5a8",
   "metadata": {},
   "source": [
    "#### ANS: \n",
    "After analysis of the data and variables in question, I think there is no impact on experience and income who have credit cards.\n",
    "Individual with as low as 1 year experience and the low salary/income also have the credit card and Individuals with high experience level and high income has credit card too."
   ]
  },
  {
   "cell_type": "markdown",
   "id": "8d30b39a",
   "metadata": {},
   "source": [
    "## Q15. Do you see any outliers in the dataset? If yes what plot is suitable to showcase to the stakeholders?"
   ]
  },
  {
   "cell_type": "markdown",
   "id": "1c42ebeb",
   "metadata": {},
   "source": [
    "#### ANS: \n",
    "There are few outlier in Experience and Income Variables. I will find the KURTOSIS value to check the tailedness \n",
    "in the plot. The higher the tail it signifies there are outliers.\n",
    "Histogram Plot will be a suitable choice."
   ]
  },
  {
   "cell_type": "markdown",
   "id": "828706a0",
   "metadata": {},
   "source": [
    "## Q16. Give us the deciles values of the variable ‘Income’ in the dataset."
   ]
  },
  {
   "cell_type": "code",
   "execution_count": 237,
   "id": "d0712e54",
   "metadata": {},
   "outputs": [
    {
     "data": {
      "text/html": [
       "<div>\n",
       "<style scoped>\n",
       "    .dataframe tbody tr th:only-of-type {\n",
       "        vertical-align: middle;\n",
       "    }\n",
       "\n",
       "    .dataframe tbody tr th {\n",
       "        vertical-align: top;\n",
       "    }\n",
       "\n",
       "    .dataframe thead th {\n",
       "        text-align: right;\n",
       "    }\n",
       "</style>\n",
       "<table border=\"1\" class=\"dataframe\">\n",
       "  <thead>\n",
       "    <tr style=\"text-align: right;\">\n",
       "      <th></th>\n",
       "      <th>ID</th>\n",
       "      <th>Age</th>\n",
       "      <th>Experience</th>\n",
       "      <th>Income</th>\n",
       "      <th>ZIP Code</th>\n",
       "      <th>Family</th>\n",
       "      <th>CCAvg</th>\n",
       "      <th>Education</th>\n",
       "      <th>Mortgage</th>\n",
       "      <th>Personal Loan</th>\n",
       "      <th>Securities Account</th>\n",
       "      <th>CD Account</th>\n",
       "      <th>Online</th>\n",
       "      <th>CreditCard</th>\n",
       "      <th>Deciles_inc</th>\n",
       "    </tr>\n",
       "  </thead>\n",
       "  <tbody>\n",
       "    <tr>\n",
       "      <th>0</th>\n",
       "      <td>1</td>\n",
       "      <td>25</td>\n",
       "      <td>1</td>\n",
       "      <td>49</td>\n",
       "      <td>91107</td>\n",
       "      <td>4</td>\n",
       "      <td>1.6</td>\n",
       "      <td>1</td>\n",
       "      <td>0</td>\n",
       "      <td>0</td>\n",
       "      <td>1</td>\n",
       "      <td>0</td>\n",
       "      <td>0</td>\n",
       "      <td>0</td>\n",
       "      <td>3</td>\n",
       "    </tr>\n",
       "    <tr>\n",
       "      <th>1</th>\n",
       "      <td>2</td>\n",
       "      <td>45</td>\n",
       "      <td>19</td>\n",
       "      <td>34</td>\n",
       "      <td>90089</td>\n",
       "      <td>3</td>\n",
       "      <td>1.5</td>\n",
       "      <td>1</td>\n",
       "      <td>0</td>\n",
       "      <td>0</td>\n",
       "      <td>1</td>\n",
       "      <td>0</td>\n",
       "      <td>0</td>\n",
       "      <td>0</td>\n",
       "      <td>2</td>\n",
       "    </tr>\n",
       "    <tr>\n",
       "      <th>2</th>\n",
       "      <td>3</td>\n",
       "      <td>39</td>\n",
       "      <td>15</td>\n",
       "      <td>11</td>\n",
       "      <td>94720</td>\n",
       "      <td>1</td>\n",
       "      <td>1.0</td>\n",
       "      <td>1</td>\n",
       "      <td>0</td>\n",
       "      <td>0</td>\n",
       "      <td>0</td>\n",
       "      <td>0</td>\n",
       "      <td>0</td>\n",
       "      <td>0</td>\n",
       "      <td>0</td>\n",
       "    </tr>\n",
       "    <tr>\n",
       "      <th>3</th>\n",
       "      <td>4</td>\n",
       "      <td>35</td>\n",
       "      <td>9</td>\n",
       "      <td>100</td>\n",
       "      <td>94112</td>\n",
       "      <td>1</td>\n",
       "      <td>2.7</td>\n",
       "      <td>2</td>\n",
       "      <td>0</td>\n",
       "      <td>0</td>\n",
       "      <td>0</td>\n",
       "      <td>0</td>\n",
       "      <td>0</td>\n",
       "      <td>0</td>\n",
       "      <td>7</td>\n",
       "    </tr>\n",
       "    <tr>\n",
       "      <th>4</th>\n",
       "      <td>5</td>\n",
       "      <td>35</td>\n",
       "      <td>8</td>\n",
       "      <td>45</td>\n",
       "      <td>91330</td>\n",
       "      <td>4</td>\n",
       "      <td>1.0</td>\n",
       "      <td>2</td>\n",
       "      <td>0</td>\n",
       "      <td>0</td>\n",
       "      <td>0</td>\n",
       "      <td>0</td>\n",
       "      <td>0</td>\n",
       "      <td>1</td>\n",
       "      <td>3</td>\n",
       "    </tr>\n",
       "    <tr>\n",
       "      <th>...</th>\n",
       "      <td>...</td>\n",
       "      <td>...</td>\n",
       "      <td>...</td>\n",
       "      <td>...</td>\n",
       "      <td>...</td>\n",
       "      <td>...</td>\n",
       "      <td>...</td>\n",
       "      <td>...</td>\n",
       "      <td>...</td>\n",
       "      <td>...</td>\n",
       "      <td>...</td>\n",
       "      <td>...</td>\n",
       "      <td>...</td>\n",
       "      <td>...</td>\n",
       "      <td>...</td>\n",
       "    </tr>\n",
       "    <tr>\n",
       "      <th>4995</th>\n",
       "      <td>4996</td>\n",
       "      <td>29</td>\n",
       "      <td>3</td>\n",
       "      <td>40</td>\n",
       "      <td>92697</td>\n",
       "      <td>1</td>\n",
       "      <td>1.9</td>\n",
       "      <td>3</td>\n",
       "      <td>0</td>\n",
       "      <td>0</td>\n",
       "      <td>0</td>\n",
       "      <td>0</td>\n",
       "      <td>1</td>\n",
       "      <td>0</td>\n",
       "      <td>2</td>\n",
       "    </tr>\n",
       "    <tr>\n",
       "      <th>4996</th>\n",
       "      <td>4997</td>\n",
       "      <td>30</td>\n",
       "      <td>4</td>\n",
       "      <td>15</td>\n",
       "      <td>92037</td>\n",
       "      <td>4</td>\n",
       "      <td>0.4</td>\n",
       "      <td>1</td>\n",
       "      <td>85</td>\n",
       "      <td>0</td>\n",
       "      <td>0</td>\n",
       "      <td>0</td>\n",
       "      <td>1</td>\n",
       "      <td>0</td>\n",
       "      <td>0</td>\n",
       "    </tr>\n",
       "    <tr>\n",
       "      <th>4997</th>\n",
       "      <td>4998</td>\n",
       "      <td>63</td>\n",
       "      <td>39</td>\n",
       "      <td>24</td>\n",
       "      <td>93023</td>\n",
       "      <td>2</td>\n",
       "      <td>0.3</td>\n",
       "      <td>3</td>\n",
       "      <td>0</td>\n",
       "      <td>0</td>\n",
       "      <td>0</td>\n",
       "      <td>0</td>\n",
       "      <td>0</td>\n",
       "      <td>0</td>\n",
       "      <td>1</td>\n",
       "    </tr>\n",
       "    <tr>\n",
       "      <th>4998</th>\n",
       "      <td>4999</td>\n",
       "      <td>65</td>\n",
       "      <td>40</td>\n",
       "      <td>49</td>\n",
       "      <td>90034</td>\n",
       "      <td>3</td>\n",
       "      <td>0.5</td>\n",
       "      <td>2</td>\n",
       "      <td>0</td>\n",
       "      <td>0</td>\n",
       "      <td>0</td>\n",
       "      <td>0</td>\n",
       "      <td>1</td>\n",
       "      <td>0</td>\n",
       "      <td>3</td>\n",
       "    </tr>\n",
       "    <tr>\n",
       "      <th>4999</th>\n",
       "      <td>5000</td>\n",
       "      <td>28</td>\n",
       "      <td>4</td>\n",
       "      <td>83</td>\n",
       "      <td>92612</td>\n",
       "      <td>3</td>\n",
       "      <td>0.8</td>\n",
       "      <td>1</td>\n",
       "      <td>0</td>\n",
       "      <td>0</td>\n",
       "      <td>0</td>\n",
       "      <td>0</td>\n",
       "      <td>1</td>\n",
       "      <td>1</td>\n",
       "      <td>6</td>\n",
       "    </tr>\n",
       "  </tbody>\n",
       "</table>\n",
       "<p>5000 rows × 15 columns</p>\n",
       "</div>"
      ],
      "text/plain": [
       "        ID  Age  Experience  Income  ZIP Code  Family  CCAvg  Education  \\\n",
       "0        1   25           1      49     91107       4    1.6          1   \n",
       "1        2   45          19      34     90089       3    1.5          1   \n",
       "2        3   39          15      11     94720       1    1.0          1   \n",
       "3        4   35           9     100     94112       1    2.7          2   \n",
       "4        5   35           8      45     91330       4    1.0          2   \n",
       "...    ...  ...         ...     ...       ...     ...    ...        ...   \n",
       "4995  4996   29           3      40     92697       1    1.9          3   \n",
       "4996  4997   30           4      15     92037       4    0.4          1   \n",
       "4997  4998   63          39      24     93023       2    0.3          3   \n",
       "4998  4999   65          40      49     90034       3    0.5          2   \n",
       "4999  5000   28           4      83     92612       3    0.8          1   \n",
       "\n",
       "      Mortgage  Personal Loan  Securities Account  CD Account  Online  \\\n",
       "0            0              0                   1           0       0   \n",
       "1            0              0                   1           0       0   \n",
       "2            0              0                   0           0       0   \n",
       "3            0              0                   0           0       0   \n",
       "4            0              0                   0           0       0   \n",
       "...        ...            ...                 ...         ...     ...   \n",
       "4995         0              0                   0           0       1   \n",
       "4996        85              0                   0           0       1   \n",
       "4997         0              0                   0           0       0   \n",
       "4998         0              0                   0           0       1   \n",
       "4999         0              0                   0           0       1   \n",
       "\n",
       "      CreditCard  Deciles_inc  \n",
       "0              0            3  \n",
       "1              0            2  \n",
       "2              0            0  \n",
       "3              0            7  \n",
       "4              1            3  \n",
       "...          ...          ...  \n",
       "4995           0            2  \n",
       "4996           0            0  \n",
       "4997           0            1  \n",
       "4998           0            3  \n",
       "4999           1            6  \n",
       "\n",
       "[5000 rows x 15 columns]"
      ]
     },
     "execution_count": 237,
     "metadata": {},
     "output_type": "execute_result"
    }
   ],
   "source": [
    "Deciles_inc = pd.qcut(bank_df[\"Income\"], 10, labels = False)\n",
    "bank_df[\"Deciles_inc\"] = Deciles_inc\n",
    "bank_df"
   ]
  },
  {
   "cell_type": "markdown",
   "id": "0424b674",
   "metadata": {},
   "source": [
    "## Q17. Give the IQR of all the variables which are quantitative and continuous."
   ]
  },
  {
   "cell_type": "code",
   "execution_count": 245,
   "id": "cdfdeaeb",
   "metadata": {},
   "outputs": [
    {
     "name": "stdout",
     "output_type": "stream",
     "text": [
      "IQR of Age column is  20.0\n",
      "IQR of Income column is  59.0\n"
     ]
    }
   ],
   "source": [
    "#IQR = q3 - q1\n",
    "\n",
    "q1_age = bank_df[\"Age\"].quantile(0.25)\n",
    "q3_age = bank_df[\"Age\"].quantile(0.75)\n",
    "\n",
    "IQR_age = q3_age - q1_age\n",
    "\n",
    "q1_inc = bank_df[\"Income\"].quantile(0.25)\n",
    "q3_inc = bank_df[\"Income\"].quantile(0.75)\n",
    "\n",
    "IQR_inc = q3_inc - q1_inc\n",
    "\n",
    "print(\"IQR of Age column is \",IQR_age)\n",
    "print(\"IQR of Income column is \",IQR_inc)"
   ]
  },
  {
   "cell_type": "markdown",
   "id": "1393ec80",
   "metadata": {},
   "source": [
    "## Q18. Do the higher-income holders spend more on credit cards?"
   ]
  },
  {
   "cell_type": "code",
   "execution_count": 138,
   "id": "4efb4beb",
   "metadata": {},
   "outputs": [
    {
     "data": {
      "text/plain": [
       "<AxesSubplot:ylabel='Frequency'>"
      ]
     },
     "execution_count": 138,
     "metadata": {},
     "output_type": "execute_result"
    },
    {
     "data": {
      "image/png": "[encoded data removed]",
      "text/plain": [
       "<Figure size 432x288 with 1 Axes>"
      ]
     },
     "metadata": {
      "needs_background": "light"
     },
     "output_type": "display_data"
    }
   ],
   "source": [
    "bank_df[\"Income\"].plot(kind= \"hist\")"
   ]
  },
  {
   "cell_type": "markdown",
   "id": "b63eba35",
   "metadata": {},
   "source": [
    "## Q19. Do customers using bank internet facilities paid higher?"
   ]
  },
  {
   "cell_type": "markdown",
   "id": "7889a998",
   "metadata": {},
   "source": [
    "#### ANS: \n",
    "No. The distibution of Income of customers who use Bank Internet facility is evenly spread. There are customer who earn as low as 8K and still use Internet facility."
   ]
  },
  {
   "cell_type": "code",
   "execution_count": 228,
   "id": "7cebafcc",
   "metadata": {},
   "outputs": [
    {
     "name": "stdout",
     "output_type": "stream",
     "text": [
      "Min income =  8\n",
      "Max income =  224\n"
     ]
    }
   ],
   "source": [
    "print(\"Min income = \",bank_df[\"Income\"].min())\n",
    "print(\"Max income = \",bank_df[\"Income\"].max())"
   ]
  },
  {
   "cell_type": "markdown",
   "id": "0bd3f440",
   "metadata": {},
   "source": [
    "## Q20. Calculate the Z score of the ‘income’ variable."
   ]
  },
  {
   "cell_type": "code",
   "execution_count": 189,
   "id": "e449f976",
   "metadata": {
    "scrolled": true
   },
   "outputs": [
    {
     "data": {
      "text/plain": [
       "0      -0.538229\n",
       "1      -0.864109\n",
       "2      -1.363793\n",
       "3       0.569765\n",
       "4      -0.625130\n",
       "          ...   \n",
       "4995   -0.733757\n",
       "4996   -1.276892\n",
       "4997   -1.081363\n",
       "4998   -0.538229\n",
       "4999    0.200434\n",
       "Name: Income, Length: 5000, dtype: float64"
      ]
     },
     "execution_count": 189,
     "metadata": {},
     "output_type": "execute_result"
    }
   ],
   "source": [
    "#ANS:\n",
    "import scipy.stats as stats\n",
    "\n",
    "Zscore_df = stats.zscore(bank_df[\"Income\"])\n",
    "Zscore_df"
   ]
  },
  {
   "cell_type": "code",
   "execution_count": null,
   "id": "e740369c",
   "metadata": {},
   "outputs": [],
   "source": []
  }
 ],
 "metadata": {
  "kernelspec": {
   "display_name": "Python 3 (ipykernel)",
   "language": "python",
   "name": "python3"
  },
  "language_info": {
   "codemirror_mode": {
    "name": "ipython",
    "version": 3
   },
   "file_extension": ".py",
   "mimetype": "text/x-python",
   "name": "python",
   "nbconvert_exporter": "python",
   "pygments_lexer": "ipython3",
   "version": "3.9.13"
  }
 },
 "nbformat": 4,
 "nbformat_minor": 5
}
